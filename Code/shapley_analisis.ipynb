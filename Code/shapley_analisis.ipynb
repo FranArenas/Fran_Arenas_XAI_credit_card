{
  "nbformat": 4,
  "nbformat_minor": 0,
  "metadata": {
    "colab": {
      "name": "shapley_analisis.ipynb",
      "provenance": []
    },
    "kernelspec": {
      "name": "python3",
      "display_name": "Python 3"
    },
    "language_info": {
      "name": "python"
    }
  },
  "cells": [
    {
      "cell_type": "markdown",
      "metadata": {
        "id": "M8WaRXFliPHo"
      },
      "source": [
        "#Imports"
      ]
    },
    {
      "cell_type": "code",
      "metadata": {
        "id": "FyjhKjPu_ey_"
      },
      "source": [
        "import pandas as pd\n",
        "import numpy as np\n",
        "\n",
        "seed = 93646"
      ],
      "execution_count": 1,
      "outputs": []
    },
    {
      "cell_type": "markdown",
      "metadata": {
        "id": "vv3R5l9wiSHm"
      },
      "source": [
        "# Carga de datos"
      ]
    },
    {
      "cell_type": "code",
      "metadata": {
        "id": "72bgk0GpiRn8"
      },
      "source": [
        "shap_xg_boost = pd.read_csv(\"https://raw.githubusercontent.com/FranArenas/Fran_Arenas_XAI_credit_card/main/results/shap_xg_boost.csv\")\n",
        "shap_dt = pd.read_csv(\"https://raw.githubusercontent.com/FranArenas/Fran_Arenas_XAI_credit_card/main/results/shap_dt.csv\")\n",
        "shap_mlp = pd.read_csv(\"https://raw.githubusercontent.com/FranArenas/Fran_Arenas_XAI_credit_card/main/results/shap_mlp.csv\")\n",
        "shap_knn = pd.read_csv(\"https://raw.githubusercontent.com/FranArenas/Fran_Arenas_XAI_credit_card/main/results/shap_knn.csv\")\n",
        "shap_rf = pd.read_csv(\"https://raw.githubusercontent.com/FranArenas/Fran_Arenas_XAI_credit_card/main/results/shap_rf.csv\")\n",
        "shap_mean_values = pd.read_csv(\"https://raw.githubusercontent.com/FranArenas/Fran_Arenas_XAI_credit_card/main/results/shap_mean_values.csv\")"
      ],
      "execution_count": 2,
      "outputs": []
    },
    {
      "cell_type": "markdown",
      "metadata": {
        "id": "9fkMn0UZjYxD"
      },
      "source": [
        "# Análisis de datos"
      ]
    },
    {
      "cell_type": "code",
      "metadata": {
        "id": "-nSt7_4z0MVd"
      },
      "source": [
        "shap_mean_values.pop(\"Unnamed: 0\");"
      ],
      "execution_count": 3,
      "outputs": []
    },
    {
      "cell_type": "code",
      "metadata": {
        "colab": {
          "base_uri": "https://localhost:8080/",
          "height": 214
        },
        "id": "6a9uOsqtjYUB",
        "outputId": "640a2d39-ad4f-4fa3-f4f0-f214058d8631"
      },
      "source": [
        "shap_mean_values.head()"
      ],
      "execution_count": 4,
      "outputs": [
        {
          "output_type": "execute_result",
          "data": {
            "text/html": [
              "<div>\n",
              "<style scoped>\n",
              "    .dataframe tbody tr th:only-of-type {\n",
              "        vertical-align: middle;\n",
              "    }\n",
              "\n",
              "    .dataframe tbody tr th {\n",
              "        vertical-align: top;\n",
              "    }\n",
              "\n",
              "    .dataframe thead th {\n",
              "        text-align: right;\n",
              "    }\n",
              "</style>\n",
              "<table border=\"1\" class=\"dataframe\">\n",
              "  <thead>\n",
              "    <tr style=\"text-align: right;\">\n",
              "      <th></th>\n",
              "      <th>CODE_GENDER_0</th>\n",
              "      <th>CODE_GENDER_1</th>\n",
              "      <th>FLAG_OWN_CAR_0</th>\n",
              "      <th>FLAG_OWN_CAR_1</th>\n",
              "      <th>FLAG_OWN_REALTY_0</th>\n",
              "      <th>FLAG_OWN_REALTY_1</th>\n",
              "      <th>CNT_CHILDREN_0</th>\n",
              "      <th>CNT_CHILDREN_1</th>\n",
              "      <th>CNT_CHILDREN_2</th>\n",
              "      <th>CNT_CHILDREN_3</th>\n",
              "      <th>CNT_CHILDREN_4</th>\n",
              "      <th>CNT_CHILDREN_5</th>\n",
              "      <th>CNT_CHILDREN_7</th>\n",
              "      <th>CNT_CHILDREN_14</th>\n",
              "      <th>CNT_CHILDREN_19</th>\n",
              "      <th>NAME_EDUCATION_TYPE_0</th>\n",
              "      <th>NAME_EDUCATION_TYPE_1</th>\n",
              "      <th>NAME_EDUCATION_TYPE_2</th>\n",
              "      <th>NAME_EDUCATION_TYPE_3</th>\n",
              "      <th>NAME_EDUCATION_TYPE_4</th>\n",
              "      <th>NAME_FAMILY_STATUS_0</th>\n",
              "      <th>NAME_FAMILY_STATUS_1</th>\n",
              "      <th>NAME_FAMILY_STATUS_2</th>\n",
              "      <th>NAME_FAMILY_STATUS_3</th>\n",
              "      <th>NAME_FAMILY_STATUS_4</th>\n",
              "      <th>NAME_HOUSING_TYPE_0</th>\n",
              "      <th>NAME_HOUSING_TYPE_1</th>\n",
              "      <th>NAME_HOUSING_TYPE_2</th>\n",
              "      <th>NAME_HOUSING_TYPE_3</th>\n",
              "      <th>NAME_HOUSING_TYPE_4</th>\n",
              "      <th>NAME_HOUSING_TYPE_5</th>\n",
              "      <th>OCCUPATION_TYPE_0</th>\n",
              "      <th>OCCUPATION_TYPE_1</th>\n",
              "      <th>OCCUPATION_TYPE_2</th>\n",
              "      <th>OCCUPATION_TYPE_3</th>\n",
              "      <th>OCCUPATION_TYPE_4</th>\n",
              "      <th>OCCUPATION_TYPE_5</th>\n",
              "      <th>OCCUPATION_TYPE_6</th>\n",
              "      <th>OCCUPATION_TYPE_7</th>\n",
              "      <th>OCCUPATION_TYPE_8</th>\n",
              "      <th>...</th>\n",
              "      <th>YEARS_EMPLOYED_4</th>\n",
              "      <th>YEARS_EMPLOYED_5</th>\n",
              "      <th>YEARS_EMPLOYED_6</th>\n",
              "      <th>YEARS_EMPLOYED_7</th>\n",
              "      <th>YEARS_EMPLOYED_8</th>\n",
              "      <th>YEARS_EMPLOYED_9</th>\n",
              "      <th>YEARS_EMPLOYED_10</th>\n",
              "      <th>YEARS_EMPLOYED_11</th>\n",
              "      <th>YEARS_EMPLOYED_12</th>\n",
              "      <th>YEARS_EMPLOYED_13</th>\n",
              "      <th>YEARS_EMPLOYED_14</th>\n",
              "      <th>YEARS_EMPLOYED_15</th>\n",
              "      <th>YEARS_EMPLOYED_16</th>\n",
              "      <th>YEARS_EMPLOYED_17</th>\n",
              "      <th>YEARS_EMPLOYED_18</th>\n",
              "      <th>YEARS_EMPLOYED_19</th>\n",
              "      <th>YEARS_EMPLOYED_20</th>\n",
              "      <th>YEARS_EMPLOYED_21</th>\n",
              "      <th>YEARS_EMPLOYED_22</th>\n",
              "      <th>YEARS_EMPLOYED_23</th>\n",
              "      <th>YEARS_EMPLOYED_24</th>\n",
              "      <th>YEARS_EMPLOYED_25</th>\n",
              "      <th>YEARS_EMPLOYED_26</th>\n",
              "      <th>YEARS_EMPLOYED_27</th>\n",
              "      <th>YEARS_EMPLOYED_28</th>\n",
              "      <th>YEARS_EMPLOYED_29</th>\n",
              "      <th>YEARS_EMPLOYED_30</th>\n",
              "      <th>YEARS_EMPLOYED_31</th>\n",
              "      <th>YEARS_EMPLOYED_32</th>\n",
              "      <th>YEARS_EMPLOYED_33</th>\n",
              "      <th>YEARS_EMPLOYED_34</th>\n",
              "      <th>YEARS_EMPLOYED_35</th>\n",
              "      <th>YEARS_EMPLOYED_36</th>\n",
              "      <th>YEARS_EMPLOYED_37</th>\n",
              "      <th>YEARS_EMPLOYED_38</th>\n",
              "      <th>YEARS_EMPLOYED_39</th>\n",
              "      <th>YEARS_EMPLOYED_40</th>\n",
              "      <th>YEARS_EMPLOYED_42</th>\n",
              "      <th>YEARS_EMPLOYED_43</th>\n",
              "      <th>Model</th>\n",
              "    </tr>\n",
              "  </thead>\n",
              "  <tbody>\n",
              "    <tr>\n",
              "      <th>0</th>\n",
              "      <td>-0.039346</td>\n",
              "      <td>-0.016938</td>\n",
              "      <td>-0.066447</td>\n",
              "      <td>-0.008662</td>\n",
              "      <td>-0.100953</td>\n",
              "      <td>0.092033</td>\n",
              "      <td>0.028002</td>\n",
              "      <td>-0.314470</td>\n",
              "      <td>-0.097814</td>\n",
              "      <td>-0.310104</td>\n",
              "      <td>-0.528729</td>\n",
              "      <td>-0.197377</td>\n",
              "      <td>-0.483968</td>\n",
              "      <td>-0.046357</td>\n",
              "      <td>0.196301</td>\n",
              "      <td>-0.262607</td>\n",
              "      <td>-0.228570</td>\n",
              "      <td>-0.231800</td>\n",
              "      <td>-0.341629</td>\n",
              "      <td>0.240200</td>\n",
              "      <td>-0.057373</td>\n",
              "      <td>-0.059417</td>\n",
              "      <td>-0.047386</td>\n",
              "      <td>-0.051521</td>\n",
              "      <td>-0.068391</td>\n",
              "      <td>-0.045368</td>\n",
              "      <td>-0.039195</td>\n",
              "      <td>-0.021567</td>\n",
              "      <td>-0.074829</td>\n",
              "      <td>-0.158019</td>\n",
              "      <td>-0.087789</td>\n",
              "      <td>-0.053093</td>\n",
              "      <td>-0.060546</td>\n",
              "      <td>-0.076058</td>\n",
              "      <td>-0.048772</td>\n",
              "      <td>-0.055733</td>\n",
              "      <td>-0.049622</td>\n",
              "      <td>-0.049513</td>\n",
              "      <td>-0.039157</td>\n",
              "      <td>-0.064886</td>\n",
              "      <td>...</td>\n",
              "      <td>-0.041099</td>\n",
              "      <td>-0.044723</td>\n",
              "      <td>-0.030904</td>\n",
              "      <td>-0.024279</td>\n",
              "      <td>-0.031002</td>\n",
              "      <td>-0.030930</td>\n",
              "      <td>-0.066783</td>\n",
              "      <td>-0.010591</td>\n",
              "      <td>-0.034125</td>\n",
              "      <td>-0.034451</td>\n",
              "      <td>-0.037938</td>\n",
              "      <td>-0.048017</td>\n",
              "      <td>-0.033108</td>\n",
              "      <td>-0.025131</td>\n",
              "      <td>-0.053161</td>\n",
              "      <td>-0.037299</td>\n",
              "      <td>-0.021751</td>\n",
              "      <td>-0.021131</td>\n",
              "      <td>-0.035796</td>\n",
              "      <td>-0.038444</td>\n",
              "      <td>-0.019777</td>\n",
              "      <td>-0.033025</td>\n",
              "      <td>-0.031216</td>\n",
              "      <td>-0.043856</td>\n",
              "      <td>-0.011645</td>\n",
              "      <td>0.025741</td>\n",
              "      <td>-0.106636</td>\n",
              "      <td>-0.126085</td>\n",
              "      <td>-0.219060</td>\n",
              "      <td>0.007757</td>\n",
              "      <td>-0.023392</td>\n",
              "      <td>-0.004820</td>\n",
              "      <td>-0.026872</td>\n",
              "      <td>-0.023445</td>\n",
              "      <td>-0.033350</td>\n",
              "      <td>0.034645</td>\n",
              "      <td>-0.070482</td>\n",
              "      <td>0.044409</td>\n",
              "      <td>-0.055570</td>\n",
              "      <td>xgboost</td>\n",
              "    </tr>\n",
              "    <tr>\n",
              "      <th>1</th>\n",
              "      <td>-0.002027</td>\n",
              "      <td>0.003805</td>\n",
              "      <td>0.002193</td>\n",
              "      <td>-0.000556</td>\n",
              "      <td>0.006908</td>\n",
              "      <td>0.002538</td>\n",
              "      <td>0.009944</td>\n",
              "      <td>0.000677</td>\n",
              "      <td>0.008939</td>\n",
              "      <td>0.004404</td>\n",
              "      <td>0.002333</td>\n",
              "      <td>0.280662</td>\n",
              "      <td>0.069609</td>\n",
              "      <td>0.046856</td>\n",
              "      <td>-0.003183</td>\n",
              "      <td>0.027366</td>\n",
              "      <td>0.020760</td>\n",
              "      <td>0.024267</td>\n",
              "      <td>0.032889</td>\n",
              "      <td>-0.070399</td>\n",
              "      <td>0.003655</td>\n",
              "      <td>0.005743</td>\n",
              "      <td>0.004821</td>\n",
              "      <td>0.004246</td>\n",
              "      <td>0.001574</td>\n",
              "      <td>0.006387</td>\n",
              "      <td>0.004386</td>\n",
              "      <td>0.000561</td>\n",
              "      <td>0.013998</td>\n",
              "      <td>0.008529</td>\n",
              "      <td>0.016813</td>\n",
              "      <td>0.001606</td>\n",
              "      <td>0.000539</td>\n",
              "      <td>-0.003481</td>\n",
              "      <td>0.003065</td>\n",
              "      <td>-0.000435</td>\n",
              "      <td>0.002147</td>\n",
              "      <td>-0.001493</td>\n",
              "      <td>0.002150</td>\n",
              "      <td>0.001038</td>\n",
              "      <td>...</td>\n",
              "      <td>0.004192</td>\n",
              "      <td>-0.001550</td>\n",
              "      <td>0.001295</td>\n",
              "      <td>0.000111</td>\n",
              "      <td>0.000281</td>\n",
              "      <td>0.000402</td>\n",
              "      <td>-0.003129</td>\n",
              "      <td>0.002765</td>\n",
              "      <td>0.002154</td>\n",
              "      <td>-0.000214</td>\n",
              "      <td>0.000742</td>\n",
              "      <td>-0.000672</td>\n",
              "      <td>0.000196</td>\n",
              "      <td>0.000458</td>\n",
              "      <td>-0.001627</td>\n",
              "      <td>-0.001403</td>\n",
              "      <td>-0.005974</td>\n",
              "      <td>-0.000201</td>\n",
              "      <td>0.000449</td>\n",
              "      <td>-0.000952</td>\n",
              "      <td>0.007380</td>\n",
              "      <td>0.001210</td>\n",
              "      <td>-0.000617</td>\n",
              "      <td>-0.001870</td>\n",
              "      <td>0.001566</td>\n",
              "      <td>0.011620</td>\n",
              "      <td>-0.003890</td>\n",
              "      <td>-0.001116</td>\n",
              "      <td>-0.005521</td>\n",
              "      <td>0.002874</td>\n",
              "      <td>0.000518</td>\n",
              "      <td>-0.000340</td>\n",
              "      <td>-0.000855</td>\n",
              "      <td>0.002409</td>\n",
              "      <td>0.001675</td>\n",
              "      <td>0.002014</td>\n",
              "      <td>-0.000736</td>\n",
              "      <td>0.000143</td>\n",
              "      <td>-0.000062</td>\n",
              "      <td>DT</td>\n",
              "    </tr>\n",
              "    <tr>\n",
              "      <th>2</th>\n",
              "      <td>-0.020101</td>\n",
              "      <td>-0.053200</td>\n",
              "      <td>-0.034498</td>\n",
              "      <td>-0.006513</td>\n",
              "      <td>-0.023771</td>\n",
              "      <td>0.001792</td>\n",
              "      <td>-0.031073</td>\n",
              "      <td>0.033802</td>\n",
              "      <td>0.004404</td>\n",
              "      <td>0.033010</td>\n",
              "      <td>0.015916</td>\n",
              "      <td>-0.173795</td>\n",
              "      <td>-0.056429</td>\n",
              "      <td>-0.139081</td>\n",
              "      <td>0.025637</td>\n",
              "      <td>-0.025092</td>\n",
              "      <td>-0.008950</td>\n",
              "      <td>-0.007765</td>\n",
              "      <td>-0.020330</td>\n",
              "      <td>0.010637</td>\n",
              "      <td>-0.022035</td>\n",
              "      <td>-0.025166</td>\n",
              "      <td>-0.028035</td>\n",
              "      <td>-0.025032</td>\n",
              "      <td>-0.023761</td>\n",
              "      <td>0.016319</td>\n",
              "      <td>0.019289</td>\n",
              "      <td>0.017783</td>\n",
              "      <td>0.003765</td>\n",
              "      <td>-0.004080</td>\n",
              "      <td>0.001534</td>\n",
              "      <td>0.015865</td>\n",
              "      <td>0.002517</td>\n",
              "      <td>0.003499</td>\n",
              "      <td>0.008781</td>\n",
              "      <td>0.006649</td>\n",
              "      <td>0.002291</td>\n",
              "      <td>0.005334</td>\n",
              "      <td>0.006605</td>\n",
              "      <td>0.000808</td>\n",
              "      <td>...</td>\n",
              "      <td>-0.012382</td>\n",
              "      <td>-0.019407</td>\n",
              "      <td>-0.010661</td>\n",
              "      <td>-0.004968</td>\n",
              "      <td>-0.005727</td>\n",
              "      <td>-0.006900</td>\n",
              "      <td>-0.027177</td>\n",
              "      <td>0.008749</td>\n",
              "      <td>-0.015712</td>\n",
              "      <td>-0.012360</td>\n",
              "      <td>-0.011821</td>\n",
              "      <td>-0.015760</td>\n",
              "      <td>-0.007479</td>\n",
              "      <td>-0.015546</td>\n",
              "      <td>-0.014612</td>\n",
              "      <td>-0.009596</td>\n",
              "      <td>-0.016433</td>\n",
              "      <td>-0.010823</td>\n",
              "      <td>-0.004888</td>\n",
              "      <td>-0.012070</td>\n",
              "      <td>0.000577</td>\n",
              "      <td>-0.012480</td>\n",
              "      <td>-0.008243</td>\n",
              "      <td>-0.021649</td>\n",
              "      <td>-0.000448</td>\n",
              "      <td>0.001839</td>\n",
              "      <td>-0.035945</td>\n",
              "      <td>-0.035440</td>\n",
              "      <td>-0.056925</td>\n",
              "      <td>0.014134</td>\n",
              "      <td>0.000560</td>\n",
              "      <td>0.003536</td>\n",
              "      <td>-0.009142</td>\n",
              "      <td>0.005415</td>\n",
              "      <td>-0.001114</td>\n",
              "      <td>0.003482</td>\n",
              "      <td>-0.072681</td>\n",
              "      <td>0.014095</td>\n",
              "      <td>0.003647</td>\n",
              "      <td>MLP</td>\n",
              "    </tr>\n",
              "    <tr>\n",
              "      <th>3</th>\n",
              "      <td>-0.004708</td>\n",
              "      <td>-0.006154</td>\n",
              "      <td>-0.005516</td>\n",
              "      <td>-0.002986</td>\n",
              "      <td>-0.009664</td>\n",
              "      <td>-0.002235</td>\n",
              "      <td>-0.009588</td>\n",
              "      <td>-0.051319</td>\n",
              "      <td>-0.002577</td>\n",
              "      <td>-0.021336</td>\n",
              "      <td>-0.104625</td>\n",
              "      <td>0.011146</td>\n",
              "      <td>-0.075657</td>\n",
              "      <td>-0.054248</td>\n",
              "      <td>-0.084048</td>\n",
              "      <td>-0.124671</td>\n",
              "      <td>-0.128109</td>\n",
              "      <td>-0.093727</td>\n",
              "      <td>-0.126105</td>\n",
              "      <td>0.249226</td>\n",
              "      <td>-0.006220</td>\n",
              "      <td>-0.004794</td>\n",
              "      <td>-0.004538</td>\n",
              "      <td>-0.002917</td>\n",
              "      <td>-0.004148</td>\n",
              "      <td>-0.002948</td>\n",
              "      <td>0.001483</td>\n",
              "      <td>-0.003036</td>\n",
              "      <td>-0.004092</td>\n",
              "      <td>-0.005850</td>\n",
              "      <td>-0.001592</td>\n",
              "      <td>-0.006657</td>\n",
              "      <td>-0.011379</td>\n",
              "      <td>-0.015279</td>\n",
              "      <td>-0.008284</td>\n",
              "      <td>-0.008062</td>\n",
              "      <td>-0.007975</td>\n",
              "      <td>-0.009683</td>\n",
              "      <td>-0.004575</td>\n",
              "      <td>-0.017485</td>\n",
              "      <td>...</td>\n",
              "      <td>-0.003718</td>\n",
              "      <td>-0.002608</td>\n",
              "      <td>-0.005955</td>\n",
              "      <td>-0.001890</td>\n",
              "      <td>-0.001883</td>\n",
              "      <td>-0.002249</td>\n",
              "      <td>-0.003652</td>\n",
              "      <td>-0.000476</td>\n",
              "      <td>-0.005702</td>\n",
              "      <td>-0.004247</td>\n",
              "      <td>-0.004265</td>\n",
              "      <td>-0.003698</td>\n",
              "      <td>-0.004857</td>\n",
              "      <td>-0.002062</td>\n",
              "      <td>-0.009771</td>\n",
              "      <td>-0.000506</td>\n",
              "      <td>-0.011347</td>\n",
              "      <td>-0.005314</td>\n",
              "      <td>-0.000982</td>\n",
              "      <td>-0.006862</td>\n",
              "      <td>-0.001430</td>\n",
              "      <td>-0.001165</td>\n",
              "      <td>-0.001535</td>\n",
              "      <td>-0.001546</td>\n",
              "      <td>-0.002093</td>\n",
              "      <td>-0.004872</td>\n",
              "      <td>-0.002037</td>\n",
              "      <td>-0.002000</td>\n",
              "      <td>-0.003532</td>\n",
              "      <td>0.000000</td>\n",
              "      <td>-0.000074</td>\n",
              "      <td>-0.002310</td>\n",
              "      <td>0.000000</td>\n",
              "      <td>-0.000229</td>\n",
              "      <td>-0.001666</td>\n",
              "      <td>-0.000828</td>\n",
              "      <td>-0.003295</td>\n",
              "      <td>0.000000</td>\n",
              "      <td>-0.002048</td>\n",
              "      <td>KNN</td>\n",
              "    </tr>\n",
              "  </tbody>\n",
              "</table>\n",
              "<p>4 rows × 141 columns</p>\n",
              "</div>"
            ],
            "text/plain": [
              "   CODE_GENDER_0  CODE_GENDER_1  ...  YEARS_EMPLOYED_43    Model\n",
              "0      -0.039346      -0.016938  ...          -0.055570  xgboost\n",
              "1      -0.002027       0.003805  ...          -0.000062       DT\n",
              "2      -0.020101      -0.053200  ...           0.003647      MLP\n",
              "3      -0.004708      -0.006154  ...          -0.002048      KNN\n",
              "\n",
              "[4 rows x 141 columns]"
            ]
          },
          "metadata": {
            "tags": []
          },
          "execution_count": 4
        }
      ]
    },
    {
      "cell_type": "markdown",
      "metadata": {
        "id": "mk7-OR1b66-g"
      },
      "source": [
        "#Escalamos los valores entre 100 y -100"
      ]
    },
    {
      "cell_type": "code",
      "metadata": {
        "id": "8jKJZoYA6-yf"
      },
      "source": [
        "from sklearn.preprocessing import normalize\n",
        "\n",
        "shap_mean_norm = shap_mean_values.copy()\n",
        "\n",
        "shap_mean_norm.pop(\"Model\")\n",
        "\n",
        "cols_names = shap_mean_norm.columns\n",
        "\n",
        "shap_mean_norm = normalize(shap_mean_norm)*100\n",
        "\n",
        "shap_mean_norm = pd.DataFrame(shap_mean_norm, columns = cols_names)"
      ],
      "execution_count": 7,
      "outputs": []
    },
    {
      "cell_type": "markdown",
      "metadata": {
        "id": "2zCZmTcg0chK"
      },
      "source": [
        "## Métricas"
      ]
    },
    {
      "cell_type": "code",
      "metadata": {
        "colab": {
          "base_uri": "https://localhost:8080/"
        },
        "id": "6oJzdSN81R5K",
        "outputId": "ab3a64f8-eb79-40b3-fdb5-418259ebf85d"
      },
      "source": [
        "from sklearn.metrics import r2_score,mean_squared_error, mean_absolute_error\n",
        "\n",
        "for i in range(shap_mean_norm.shape[0]):\n",
        "  for j in range(shap_mean_norm.shape[0]):\n",
        "    if i != j:\n",
        "      r2 = r2_score(shap_mean_norm.iloc[i][:].to_numpy(),shap_mean_norm.iloc[j][:].to_numpy())\n",
        "      mse = mean_squared_error(shap_mean_norm.iloc[i][:].to_numpy(),shap_mean_norm.iloc[j][:].to_numpy())\n",
        "      mae = mean_absolute_error(shap_mean_norm.iloc[i][:].to_numpy(),shap_mean_norm.iloc[j][:].to_numpy())\n",
        "\n",
        "      name1 = shap_mean_values.iloc[i][-1:].to_numpy()[0]\n",
        "      name2 = shap_mean_values.iloc[j][-1:].to_numpy()[0]\n",
        "\n",
        "      print(\"r2 Score for {} and {} : {}\".format(name1,name2,r2))\n",
        "      print(\"Mean squared error for {} and {} : {}\".format(name1,name2,mse))\n",
        "      print(\"Mean absolute error for {} and {} : {}\".format(name1,name2,mae))\n",
        "      print(\"\\n\")"
      ],
      "execution_count": 8,
      "outputs": [
        {
          "output_type": "stream",
          "text": [
            "r2 Score for xgboost and DT : -2.725319324844746\n",
            "Mean squared error for xgboost and DT : 198.08149938453263\n",
            "Mean absolute error for xgboost and DT : 6.782446089571855\n",
            "\n",
            "\n",
            "r2 Score for xgboost and MLP : -0.8146972934848373\n",
            "Mean squared error for xgboost and MLP : 96.49050980012576\n",
            "Mean absolute error for xgboost and MLP : 5.3778301126089465\n",
            "\n",
            "\n",
            "r2 Score for xgboost and KNN : 0.05387685053764124\n",
            "Mean squared error for xgboost and KNN : 50.30696047934915\n",
            "Mean absolute error for xgboost and KNN : 3.7994892812769656\n",
            "\n",
            "\n",
            "r2 Score for DT and xgboost : -1.8438338302959645\n",
            "Mean squared error for DT and xgboost : 198.08149938453263\n",
            "Mean absolute error for DT and xgboost : 6.782446089571855\n",
            "\n",
            "\n",
            "r2 Score for DT and MLP : -2.3594482468343965\n",
            "Mean squared error for DT and MLP : 233.99557975173337\n",
            "Mean absolute error for DT and MLP : 6.28425891312816\n",
            "\n",
            "\n",
            "r2 Score for DT and KNN : -1.633271569049478\n",
            "Mean squared error for DT and KNN : 183.41521052574902\n",
            "Mean absolute error for DT and KNN : 4.973010457793383\n",
            "\n",
            "\n",
            "r2 Score for MLP and xgboost : -0.5753370913754321\n",
            "Mean squared error for MLP and xgboost : 96.49050980012576\n",
            "Mean absolute error for MLP and xgboost : 5.3778301126089465\n",
            "\n",
            "\n",
            "r2 Score for MLP and DT : -2.820291930930633\n",
            "Mean squared error for MLP and DT : 233.99557975173337\n",
            "Mean absolute error for MLP and DT : 6.28425891312816\n",
            "\n",
            "\n",
            "r2 Score for MLP and KNN : -0.9531629027141424\n",
            "Mean squared error for MLP and KNN : 119.63260767321519\n",
            "Mean absolute error for MLP and KNN : 5.845758918260783\n",
            "\n",
            "\n",
            "r2 Score for KNN and xgboost : 0.2424257543843531\n",
            "Mean squared error for KNN and xgboost : 50.30696047934915\n",
            "Mean absolute error for KNN and xgboost : 3.7994892812769656\n",
            "\n",
            "\n",
            "r2 Score for KNN and DT : -1.7620559545734866\n",
            "Mean squared error for KNN and DT : 183.41521052574902\n",
            "Mean absolute error for KNN and DT : 4.973010457793383\n",
            "\n",
            "\n",
            "r2 Score for KNN and MLP : -0.8015515476486048\n",
            "Mean squared error for KNN and MLP : 119.63260767321519\n",
            "Mean absolute error for KNN and MLP : 5.845758918260783\n",
            "\n",
            "\n"
          ],
          "name": "stdout"
        }
      ]
    },
    {
      "cell_type": "markdown",
      "metadata": {
        "id": "3pOSb-DFBI0D"
      },
      "source": [
        "# Valores de alto impacto"
      ]
    },
    {
      "cell_type": "code",
      "metadata": {
        "id": "ouLVpkEeA-Qh"
      },
      "source": [
        "vals_max = []\n",
        "for i in shap_mean_norm.max():\n",
        "  vals_max.append(i)\n",
        "\n",
        "vals_min = []\n",
        "for i in shap_mean_norm.min():\n",
        "  vals_min.append(i)"
      ],
      "execution_count": 9,
      "outputs": []
    },
    {
      "cell_type": "code",
      "metadata": {
        "colab": {
          "base_uri": "https://localhost:8080/"
        },
        "id": "3pfHhwW4D8OM",
        "outputId": "bac2072a-6acb-4494-c412-a828a4f2c439"
      },
      "source": [
        "shap_mean_norm[\"YEARS_EMPLOYED_34\"].max() > 0"
      ],
      "execution_count": 10,
      "outputs": [
        {
          "output_type": "execute_result",
          "data": {
            "text/plain": [
              "True"
            ]
          },
          "metadata": {
            "tags": []
          },
          "execution_count": 10
        }
      ]
    },
    {
      "cell_type": "code",
      "metadata": {
        "id": "baDC2WJ4DSGr"
      },
      "source": [
        "high_cols = []\n",
        "for col in shap_mean_norm.columns:\n",
        "  c_col = shap_mean_norm[col]\n",
        "  if c_col.max() >= 15  or c_col.min() <= -15:\n",
        "    high_cols.append(c_col.name)"
      ],
      "execution_count": 11,
      "outputs": []
    },
    {
      "cell_type": "code",
      "metadata": {
        "colab": {
          "base_uri": "https://localhost:8080/",
          "height": 186
        },
        "id": "im5MW2_XD4pI",
        "outputId": "4da5f040-3d91-4967-a978-9ca229952cb7"
      },
      "source": [
        "shap_mean_norm[high_cols]"
      ],
      "execution_count": 12,
      "outputs": [
        {
          "output_type": "execute_result",
          "data": {
            "text/html": [
              "<div>\n",
              "<style scoped>\n",
              "    .dataframe tbody tr th:only-of-type {\n",
              "        vertical-align: middle;\n",
              "    }\n",
              "\n",
              "    .dataframe tbody tr th {\n",
              "        vertical-align: top;\n",
              "    }\n",
              "\n",
              "    .dataframe thead th {\n",
              "        text-align: right;\n",
              "    }\n",
              "</style>\n",
              "<table border=\"1\" class=\"dataframe\">\n",
              "  <thead>\n",
              "    <tr style=\"text-align: right;\">\n",
              "      <th></th>\n",
              "      <th>CODE_GENDER_1</th>\n",
              "      <th>CNT_CHILDREN_1</th>\n",
              "      <th>CNT_CHILDREN_3</th>\n",
              "      <th>CNT_CHILDREN_4</th>\n",
              "      <th>CNT_CHILDREN_5</th>\n",
              "      <th>CNT_CHILDREN_7</th>\n",
              "      <th>CNT_CHILDREN_14</th>\n",
              "      <th>CNT_CHILDREN_19</th>\n",
              "      <th>NAME_EDUCATION_TYPE_0</th>\n",
              "      <th>NAME_EDUCATION_TYPE_1</th>\n",
              "      <th>NAME_EDUCATION_TYPE_2</th>\n",
              "      <th>NAME_EDUCATION_TYPE_3</th>\n",
              "      <th>NAME_EDUCATION_TYPE_4</th>\n",
              "      <th>YEARS_EMPLOYED_32</th>\n",
              "      <th>YEARS_EMPLOYED_40</th>\n",
              "    </tr>\n",
              "  </thead>\n",
              "  <tbody>\n",
              "    <tr>\n",
              "      <th>0</th>\n",
              "      <td>-1.391938</td>\n",
              "      <td>-25.843209</td>\n",
              "      <td>-25.484433</td>\n",
              "      <td>-43.451090</td>\n",
              "      <td>-16.220473</td>\n",
              "      <td>-39.772630</td>\n",
              "      <td>-3.809647</td>\n",
              "      <td>16.132100</td>\n",
              "      <td>-21.581122</td>\n",
              "      <td>-18.783931</td>\n",
              "      <td>-19.049384</td>\n",
              "      <td>-28.075121</td>\n",
              "      <td>19.739698</td>\n",
              "      <td>-18.002374</td>\n",
              "      <td>-5.792211</td>\n",
              "    </tr>\n",
              "    <tr>\n",
              "      <th>1</th>\n",
              "      <td>1.226373</td>\n",
              "      <td>0.218315</td>\n",
              "      <td>1.419270</td>\n",
              "      <td>0.752015</td>\n",
              "      <td>90.454196</td>\n",
              "      <td>22.434073</td>\n",
              "      <td>15.101327</td>\n",
              "      <td>-1.025974</td>\n",
              "      <td>8.819860</td>\n",
              "      <td>6.690738</td>\n",
              "      <td>7.820875</td>\n",
              "      <td>10.599901</td>\n",
              "      <td>-22.688771</td>\n",
              "      <td>-1.779503</td>\n",
              "      <td>-0.237157</td>\n",
              "    </tr>\n",
              "    <tr>\n",
              "      <th>2</th>\n",
              "      <td>-17.435391</td>\n",
              "      <td>11.078085</td>\n",
              "      <td>10.818327</td>\n",
              "      <td>5.216209</td>\n",
              "      <td>-56.957976</td>\n",
              "      <td>-18.493496</td>\n",
              "      <td>-45.581261</td>\n",
              "      <td>8.402075</td>\n",
              "      <td>-8.223571</td>\n",
              "      <td>-2.933209</td>\n",
              "      <td>-2.544716</td>\n",
              "      <td>-6.662744</td>\n",
              "      <td>3.486068</td>\n",
              "      <td>-18.656020</td>\n",
              "      <td>-23.819770</td>\n",
              "    </tr>\n",
              "    <tr>\n",
              "      <th>3</th>\n",
              "      <td>-1.561304</td>\n",
              "      <td>-13.020069</td>\n",
              "      <td>-5.413128</td>\n",
              "      <td>-26.544402</td>\n",
              "      <td>2.827844</td>\n",
              "      <td>-19.195020</td>\n",
              "      <td>-13.763332</td>\n",
              "      <td>-21.323886</td>\n",
              "      <td>-31.630285</td>\n",
              "      <td>-32.502516</td>\n",
              "      <td>-23.779392</td>\n",
              "      <td>-31.994049</td>\n",
              "      <td>63.231086</td>\n",
              "      <td>-0.896196</td>\n",
              "      <td>-0.836099</td>\n",
              "    </tr>\n",
              "  </tbody>\n",
              "</table>\n",
              "</div>"
            ],
            "text/plain": [
              "   CODE_GENDER_1  CNT_CHILDREN_1  ...  YEARS_EMPLOYED_32  YEARS_EMPLOYED_40\n",
              "0      -1.391938      -25.843209  ...         -18.002374          -5.792211\n",
              "1       1.226373        0.218315  ...          -1.779503          -0.237157\n",
              "2     -17.435391       11.078085  ...         -18.656020         -23.819770\n",
              "3      -1.561304      -13.020069  ...          -0.896196          -0.836099\n",
              "\n",
              "[4 rows x 15 columns]"
            ]
          },
          "metadata": {
            "tags": []
          },
          "execution_count": 12
        }
      ]
    },
    {
      "cell_type": "markdown",
      "metadata": {
        "id": "HLrL9GwPKc4j"
      },
      "source": [
        "# To do"
      ]
    },
    {
      "cell_type": "markdown",
      "metadata": {
        "id": "NLPm6Ci-KfNG"
      },
      "source": [
        "- Observar si las variables falladas y predecidas de los modelos son las mismas en su mayoría. De esta manera se podrá saber si las diferencias en los shapley values dependen del tipo de modelo o de los datos"
      ]
    },
    {
      "cell_type": "markdown",
      "metadata": {
        "id": "IlDAgrb5fVwO"
      },
      "source": [
        "# Prueba con Iris dataset"
      ]
    },
    {
      "cell_type": "code",
      "metadata": {
        "id": "_iy7cxREKuVg"
      },
      "source": [
        "from sklearn.datasets import load_iris"
      ],
      "execution_count": 13,
      "outputs": []
    },
    {
      "cell_type": "code",
      "metadata": {
        "id": "K4teYz3lfeKL"
      },
      "source": [
        "data = load_iris()\n",
        "\n",
        "df_iris = pd.DataFrame(data.data, columns = data.feature_names)"
      ],
      "execution_count": 14,
      "outputs": []
    },
    {
      "cell_type": "code",
      "metadata": {
        "colab": {
          "base_uri": "https://localhost:8080/",
          "height": 402
        },
        "id": "PnUO5Bxngx3x",
        "outputId": "75a45f50-8441-4a54-de56-125b38f70e82"
      },
      "source": [
        "df_iris"
      ],
      "execution_count": 15,
      "outputs": [
        {
          "output_type": "execute_result",
          "data": {
            "text/html": [
              "<div>\n",
              "<style scoped>\n",
              "    .dataframe tbody tr th:only-of-type {\n",
              "        vertical-align: middle;\n",
              "    }\n",
              "\n",
              "    .dataframe tbody tr th {\n",
              "        vertical-align: top;\n",
              "    }\n",
              "\n",
              "    .dataframe thead th {\n",
              "        text-align: right;\n",
              "    }\n",
              "</style>\n",
              "<table border=\"1\" class=\"dataframe\">\n",
              "  <thead>\n",
              "    <tr style=\"text-align: right;\">\n",
              "      <th></th>\n",
              "      <th>sepal length (cm)</th>\n",
              "      <th>sepal width (cm)</th>\n",
              "      <th>petal length (cm)</th>\n",
              "      <th>petal width (cm)</th>\n",
              "    </tr>\n",
              "  </thead>\n",
              "  <tbody>\n",
              "    <tr>\n",
              "      <th>0</th>\n",
              "      <td>5.1</td>\n",
              "      <td>3.5</td>\n",
              "      <td>1.4</td>\n",
              "      <td>0.2</td>\n",
              "    </tr>\n",
              "    <tr>\n",
              "      <th>1</th>\n",
              "      <td>4.9</td>\n",
              "      <td>3.0</td>\n",
              "      <td>1.4</td>\n",
              "      <td>0.2</td>\n",
              "    </tr>\n",
              "    <tr>\n",
              "      <th>2</th>\n",
              "      <td>4.7</td>\n",
              "      <td>3.2</td>\n",
              "      <td>1.3</td>\n",
              "      <td>0.2</td>\n",
              "    </tr>\n",
              "    <tr>\n",
              "      <th>3</th>\n",
              "      <td>4.6</td>\n",
              "      <td>3.1</td>\n",
              "      <td>1.5</td>\n",
              "      <td>0.2</td>\n",
              "    </tr>\n",
              "    <tr>\n",
              "      <th>4</th>\n",
              "      <td>5.0</td>\n",
              "      <td>3.6</td>\n",
              "      <td>1.4</td>\n",
              "      <td>0.2</td>\n",
              "    </tr>\n",
              "    <tr>\n",
              "      <th>...</th>\n",
              "      <td>...</td>\n",
              "      <td>...</td>\n",
              "      <td>...</td>\n",
              "      <td>...</td>\n",
              "    </tr>\n",
              "    <tr>\n",
              "      <th>145</th>\n",
              "      <td>6.7</td>\n",
              "      <td>3.0</td>\n",
              "      <td>5.2</td>\n",
              "      <td>2.3</td>\n",
              "    </tr>\n",
              "    <tr>\n",
              "      <th>146</th>\n",
              "      <td>6.3</td>\n",
              "      <td>2.5</td>\n",
              "      <td>5.0</td>\n",
              "      <td>1.9</td>\n",
              "    </tr>\n",
              "    <tr>\n",
              "      <th>147</th>\n",
              "      <td>6.5</td>\n",
              "      <td>3.0</td>\n",
              "      <td>5.2</td>\n",
              "      <td>2.0</td>\n",
              "    </tr>\n",
              "    <tr>\n",
              "      <th>148</th>\n",
              "      <td>6.2</td>\n",
              "      <td>3.4</td>\n",
              "      <td>5.4</td>\n",
              "      <td>2.3</td>\n",
              "    </tr>\n",
              "    <tr>\n",
              "      <th>149</th>\n",
              "      <td>5.9</td>\n",
              "      <td>3.0</td>\n",
              "      <td>5.1</td>\n",
              "      <td>1.8</td>\n",
              "    </tr>\n",
              "  </tbody>\n",
              "</table>\n",
              "<p>150 rows × 4 columns</p>\n",
              "</div>"
            ],
            "text/plain": [
              "     sepal length (cm)  sepal width (cm)  petal length (cm)  petal width (cm)\n",
              "0                  5.1               3.5                1.4               0.2\n",
              "1                  4.9               3.0                1.4               0.2\n",
              "2                  4.7               3.2                1.3               0.2\n",
              "3                  4.6               3.1                1.5               0.2\n",
              "4                  5.0               3.6                1.4               0.2\n",
              "..                 ...               ...                ...               ...\n",
              "145                6.7               3.0                5.2               2.3\n",
              "146                6.3               2.5                5.0               1.9\n",
              "147                6.5               3.0                5.2               2.0\n",
              "148                6.2               3.4                5.4               2.3\n",
              "149                5.9               3.0                5.1               1.8\n",
              "\n",
              "[150 rows x 4 columns]"
            ]
          },
          "metadata": {
            "tags": []
          },
          "execution_count": 15
        }
      ]
    },
    {
      "cell_type": "markdown",
      "metadata": {
        "id": "Wc7leExjgsWR"
      },
      "source": [
        "# Entrenamos nuestros modelos"
      ]
    },
    {
      "cell_type": "code",
      "metadata": {
        "colab": {
          "base_uri": "https://localhost:8080/"
        },
        "id": "CgTmyfbDgjc6",
        "outputId": "457bfce3-ba16-4e19-8983-c506ff90f898"
      },
      "source": [
        "from sklearn.model_selection import train_test_split\n",
        "!pip install shap\n",
        "import shap"
      ],
      "execution_count": 16,
      "outputs": [
        {
          "output_type": "stream",
          "text": [
            "Collecting shap\n",
            "\u001b[?25l  Downloading https://files.pythonhosted.org/packages/b9/f4/c5b95cddae15be80f8e58b25edceca105aa83c0b8c86a1edad24a6af80d3/shap-0.39.0.tar.gz (356kB)\n",
            "\u001b[K     |████████████████████████████████| 358kB 4.0MB/s \n",
            "\u001b[?25hRequirement already satisfied: numpy in /usr/local/lib/python3.7/dist-packages (from shap) (1.19.5)\n",
            "Requirement already satisfied: scipy in /usr/local/lib/python3.7/dist-packages (from shap) (1.4.1)\n",
            "Requirement already satisfied: scikit-learn in /usr/local/lib/python3.7/dist-packages (from shap) (0.22.2.post1)\n",
            "Requirement already satisfied: pandas in /usr/local/lib/python3.7/dist-packages (from shap) (1.1.5)\n",
            "Requirement already satisfied: tqdm>4.25.0 in /usr/local/lib/python3.7/dist-packages (from shap) (4.41.1)\n",
            "Collecting slicer==0.0.7\n",
            "  Downloading https://files.pythonhosted.org/packages/78/c2/b3f55dfdb8af9812fdb9baf70cacf3b9e82e505b2bd4324d588888b81202/slicer-0.0.7-py3-none-any.whl\n",
            "Requirement already satisfied: numba in /usr/local/lib/python3.7/dist-packages (from shap) (0.51.2)\n",
            "Requirement already satisfied: cloudpickle in /usr/local/lib/python3.7/dist-packages (from shap) (1.3.0)\n",
            "Requirement already satisfied: joblib>=0.11 in /usr/local/lib/python3.7/dist-packages (from scikit-learn->shap) (1.0.1)\n",
            "Requirement already satisfied: python-dateutil>=2.7.3 in /usr/local/lib/python3.7/dist-packages (from pandas->shap) (2.8.1)\n",
            "Requirement already satisfied: pytz>=2017.2 in /usr/local/lib/python3.7/dist-packages (from pandas->shap) (2018.9)\n",
            "Requirement already satisfied: llvmlite<0.35,>=0.34.0.dev0 in /usr/local/lib/python3.7/dist-packages (from numba->shap) (0.34.0)\n",
            "Requirement already satisfied: setuptools in /usr/local/lib/python3.7/dist-packages (from numba->shap) (57.0.0)\n",
            "Requirement already satisfied: six>=1.5 in /usr/local/lib/python3.7/dist-packages (from python-dateutil>=2.7.3->pandas->shap) (1.15.0)\n",
            "Building wheels for collected packages: shap\n",
            "  Building wheel for shap (setup.py) ... \u001b[?25l\u001b[?25hdone\n",
            "  Created wheel for shap: filename=shap-0.39.0-cp37-cp37m-linux_x86_64.whl size=491619 sha256=098b442d673826ff4da5b0874ef6a2cd118e1509cd552d16b798531d6535780d\n",
            "  Stored in directory: /root/.cache/pip/wheels/15/27/f5/a8ab9da52fd159aae6477b5ede6eaaec69fd130fa0fa59f283\n",
            "Successfully built shap\n",
            "Installing collected packages: slicer, shap\n",
            "Successfully installed shap-0.39.0 slicer-0.0.7\n"
          ],
          "name": "stdout"
        }
      ]
    },
    {
      "cell_type": "code",
      "metadata": {
        "id": "KRNW1sjsgAD0"
      },
      "source": [
        "X_train, X_test, y_train, y_test = train_test_split(df_iris, data.target, test_size = 0.25, random_state = seed)"
      ],
      "execution_count": 17,
      "outputs": []
    },
    {
      "cell_type": "code",
      "metadata": {
        "id": "ZW3PCsBQkENM"
      },
      "source": [
        "def variable_impact(shap_values,X,columns):\n",
        "  impact = []\n",
        "  for col,feature in enumerate(columns):\n",
        "    for unique in X[feature].unique():\n",
        "      index = X[X[feature] == unique][feature].index\n",
        "      mean = 0\n",
        "      for i in index:\n",
        "        mean += shap_values[i][col]\n",
        "      mean = mean/len(index)\n",
        "      impact.append(mean)\n",
        "  return impact"
      ],
      "execution_count": 18,
      "outputs": []
    },
    {
      "cell_type": "markdown",
      "metadata": {
        "id": "7x1Gb83FhZZz"
      },
      "source": [
        "# XGBoost"
      ]
    },
    {
      "cell_type": "code",
      "metadata": {
        "id": "D4Vsh4zEhBmy"
      },
      "source": [
        "from sklearn.metrics import confusion_matrix\n",
        "from xgboost import XGBClassifier"
      ],
      "execution_count": 19,
      "outputs": []
    },
    {
      "cell_type": "code",
      "metadata": {
        "colab": {
          "base_uri": "https://localhost:8080/"
        },
        "id": "HvDT_E-fho-e",
        "outputId": "086e2b6c-e269-4986-b112-230436bc549c"
      },
      "source": [
        "xgb_class = XGBClassifier()\n",
        "\n",
        "xgb_class.fit(X_train,y_train)"
      ],
      "execution_count": 20,
      "outputs": [
        {
          "output_type": "execute_result",
          "data": {
            "text/plain": [
              "XGBClassifier(base_score=0.5, booster='gbtree', colsample_bylevel=1,\n",
              "              colsample_bynode=1, colsample_bytree=1, gamma=0,\n",
              "              learning_rate=0.1, max_delta_step=0, max_depth=3,\n",
              "              min_child_weight=1, missing=None, n_estimators=100, n_jobs=1,\n",
              "              nthread=None, objective='multi:softprob', random_state=0,\n",
              "              reg_alpha=0, reg_lambda=1, scale_pos_weight=1, seed=None,\n",
              "              silent=None, subsample=1, verbosity=1)"
            ]
          },
          "metadata": {
            "tags": []
          },
          "execution_count": 20
        }
      ]
    },
    {
      "cell_type": "code",
      "metadata": {
        "colab": {
          "base_uri": "https://localhost:8080/"
        },
        "id": "wecGjpmih16D",
        "outputId": "afa0a52b-3629-439d-c7c4-3f5a368fcf56"
      },
      "source": [
        "confusion_matrix(y_test, xgb_class.predict(X_test))"
      ],
      "execution_count": 21,
      "outputs": [
        {
          "output_type": "execute_result",
          "data": {
            "text/plain": [
              "array([[ 9,  0,  0],\n",
              "       [ 0, 11,  2],\n",
              "       [ 0,  2, 14]])"
            ]
          },
          "metadata": {
            "tags": []
          },
          "execution_count": 21
        }
      ]
    },
    {
      "cell_type": "code",
      "metadata": {
        "id": "Y_FlFF9SiDXK"
      },
      "source": [
        "#Dependiendo de la cantadidad de árboles usado en nuestro modelo puede tardar una cantidad de tiempo elevada\n",
        "explainer_xgboost = shap.TreeExplainer(xgb_class)\n",
        "shap_values_xgboost_all = explainer_xgboost.shap_values(df_iris)\n",
        "\n",
        "\n",
        "shap_values_xgboost = []\n",
        "for i,val in enumerate(xgb_class.predict(df_iris)):\n",
        "    shap_values_xgboost.append(shap_values_xgboost_all[val][i])"
      ],
      "execution_count": 22,
      "outputs": []
    },
    {
      "cell_type": "code",
      "metadata": {
        "id": "FX3QCCLlibdy"
      },
      "source": [
        "mean_xgb_shap = variable_impact(shap_values_xgboost, df_iris, df_iris.columns)"
      ],
      "execution_count": 23,
      "outputs": []
    },
    {
      "cell_type": "markdown",
      "metadata": {
        "id": "PijsKEPikgvR"
      },
      "source": [
        "## Random fores"
      ]
    },
    {
      "cell_type": "code",
      "metadata": {
        "id": "xSbVdsRfkeNn"
      },
      "source": [
        "from sklearn.ensemble import RandomForestClassifier"
      ],
      "execution_count": 24,
      "outputs": []
    },
    {
      "cell_type": "code",
      "metadata": {
        "colab": {
          "base_uri": "https://localhost:8080/"
        },
        "id": "2s2yqvUDkou9",
        "outputId": "e75bd133-d819-4592-bb0a-37e30c1075c9"
      },
      "source": [
        "rf_model = RandomForestClassifier()\n",
        "\n",
        "rf_model.fit(X_train,y_train)\n",
        "\n",
        "confusion_matrix(y_test, rf_model.predict(X_test))"
      ],
      "execution_count": 25,
      "outputs": [
        {
          "output_type": "execute_result",
          "data": {
            "text/plain": [
              "array([[ 9,  0,  0],\n",
              "       [ 0, 11,  2],\n",
              "       [ 0,  0, 16]])"
            ]
          },
          "metadata": {
            "tags": []
          },
          "execution_count": 25
        }
      ]
    },
    {
      "cell_type": "code",
      "metadata": {
        "id": "GCkf2g8Ck6OE"
      },
      "source": [
        "explainer_xgboost = shap.TreeExplainer(rf_model)\n",
        "shap_values_rf_all = explainer_xgboost.shap_values(df_iris)\n",
        "\n",
        "shap_values_rf = []\n",
        "for i,val in enumerate(rf_model.predict(df_iris)):\n",
        "    shap_values_rf.append(shap_values_rf_all[val][i])"
      ],
      "execution_count": 26,
      "outputs": []
    },
    {
      "cell_type": "code",
      "metadata": {
        "id": "DpE0ASwMlCbA"
      },
      "source": [
        "mean_shap_rf = variable_impact(shap_values_rf, df_iris, df_iris.columns)"
      ],
      "execution_count": 27,
      "outputs": []
    },
    {
      "cell_type": "markdown",
      "metadata": {
        "id": "uD7rYA-0lzPc"
      },
      "source": [
        "## Analisis Shap values"
      ]
    },
    {
      "cell_type": "code",
      "metadata": {
        "id": "YIpPhKC_lG6G"
      },
      "source": [
        "all_values_names = []\n",
        "for col,feature in enumerate(df_iris.columns):\n",
        "  for unique in df_iris[feature].unique():\n",
        "    all_values_names.append(\"{}_{}\".format(feature,unique))\n",
        "\n"
      ],
      "execution_count": 28,
      "outputs": []
    },
    {
      "cell_type": "code",
      "metadata": {
        "id": "RChWRc8pl-_D"
      },
      "source": [
        "final_df = pd.DataFrame(data= [mean_xgb_shap, mean_shap_rf],columns = all_values_names)"
      ],
      "execution_count": 29,
      "outputs": []
    },
    {
      "cell_type": "code",
      "metadata": {
        "id": "DVPzE1T0sSMx"
      },
      "source": [
        "from sklearn.preprocessing import normalize\n",
        "\n",
        "final_df_norm = final_df.copy()\n",
        "\n",
        "final_df_norm = normalize(final_df_norm)*100\n",
        "\n",
        "final_df_norm = pd.DataFrame(final_df_norm, columns = final_df.columns)"
      ],
      "execution_count": 30,
      "outputs": []
    },
    {
      "cell_type": "code",
      "metadata": {
        "colab": {
          "base_uri": "https://localhost:8080/"
        },
        "id": "9vPA_mXnmJe1",
        "outputId": "c24bf6b6-2db1-4121-cc63-abeb603a9d2d"
      },
      "source": [
        "from sklearn.metrics import r2_score,mean_squared_error, mean_absolute_error\n",
        "\n",
        "for i in range(final_df_norm.shape[0]):\n",
        "  for j in range(final_df_norm.shape[0]):\n",
        "    if i != j:\n",
        "      r2 = r2_score(final_df_norm.iloc[i][:].to_numpy(),final_df_norm.iloc[j][:].to_numpy())\n",
        "      mse = mean_squared_error(final_df_norm.iloc[i][:].to_numpy(),final_df_norm.iloc[j][:].to_numpy())\n",
        "      mae = mean_absolute_error(final_df_norm.iloc[i][:].to_numpy(),final_df_norm.iloc[j][:].to_numpy())\n",
        "\n",
        "      name1 = final_df_norm.iloc[i][-1:].to_numpy()[0]\n",
        "      name2 = final_df_norm.iloc[j][-1:].to_numpy()[0]\n",
        "\n",
        "      print(\"r2 Score for {} and {} : {}\".format(name1,name2,r2))\n",
        "      print(\"Mean squared error for {} and {} : {}\".format(name1,name2,mse))\n",
        "      print(\"Mean absolute error for {} and {} : {}\".format(name1,name2,mae))\n",
        "      print(\"\\n\")"
      ],
      "execution_count": 31,
      "outputs": [
        {
          "output_type": "stream",
          "text": [
            "r2 Score for 18.84069911389493 and 14.892270660665549 : 0.44632629283849456\n",
            "Mean squared error for 18.84069911389493 and 14.892270660665549 : 28.189329387262514\n",
            "Mean absolute error for 18.84069911389493 and 14.892270660665549 : 3.740258718252777\n",
            "\n",
            "\n",
            "r2 Score for 14.892270660665549 and 18.84069911389493 : 0.14809710170059043\n",
            "Mean squared error for 14.892270660665549 and 18.84069911389493 : 28.189329387262514\n",
            "Mean absolute error for 14.892270660665549 and 18.84069911389493 : 3.740258718252777\n",
            "\n",
            "\n"
          ],
          "name": "stdout"
        }
      ]
    },
    {
      "cell_type": "code",
      "metadata": {
        "id": "QTel6RzYsrzp"
      },
      "source": [
        ""
      ],
      "execution_count": null,
      "outputs": []
    }
  ]
}