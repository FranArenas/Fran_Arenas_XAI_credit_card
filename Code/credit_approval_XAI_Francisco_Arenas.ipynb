{
  "nbformat": 4,
  "nbformat_minor": 0,
  "metadata": {
    "colab": {
      "name": "credit_approval_XAI_Francisco_Arenas.ipynb",
      "provenance": [],
      "collapsed_sections": [
        "5_RgXj8qTkWG",
        "rDo5Hb-5h1K4",
        "lxIlYjOufrnc",
        "Ue652CAop3iW",
        "5F7fd3E7zB3s"
      ],
      "toc_visible": true
    },
    "kernelspec": {
      "name": "python3",
      "display_name": "Python 3"
    },
    "language_info": {
      "name": "python"
    },
    "accelerator": "GPU"
  },
  "cells": [
    {
      "cell_type": "markdown",
      "metadata": {
        "id": "1t4StuXBV1oA"
      },
      "source": [
        "# Configuración del notebook"
      ]
    },
    {
      "cell_type": "code",
      "metadata": {
        "id": "rFp_eV4vV4ST"
      },
      "source": [
        "send_telegram = True  #Envío de datos por telegram\n",
        "telegram_id = '417047024' #507673519 -> public_id (https://t.me/joinchat/EdijlVvAWLUxMGQ0) || 4170424 -> Fran Arenas \n",
        "\n",
        "download_csv = False #Descarga local de los datos\n",
        "\n",
        "#Models\n",
        "xgb = False #XGBoost\n",
        "dt = False  #Decision Tree\n",
        "mlp = False #Multi Layer Perceptron (2 hidden layer)\n",
        "knn = False #K Nearest Neighbour\n",
        "rf = True   #Random Forest\n",
        "\n",
        "#Columnas de las que queremos sacar la media de los shapley values por cada posible valor (solo discretas)\n",
        "cols_impact = ['CODE_GENDER', 'FLAG_OWN_CAR', 'FLAG_OWN_REALTY',  'CNT_CHILDREN', 'NAME_EDUCATION_TYPE', 'NAME_FAMILY_STATUS','NAME_HOUSING_TYPE','OCCUPATION_TYPE','YEARS_BIRTH','YEARS_EMPLOYED']\n"
      ],
      "execution_count": null,
      "outputs": []
    },
    {
      "cell_type": "markdown",
      "metadata": {
        "id": "B1n2rwxmXZ2G"
      },
      "source": [
        "# Funciones auxiliares"
      ]
    },
    {
      "cell_type": "code",
      "metadata": {
        "id": "lZWklsuxXcQF"
      },
      "source": [
        "def validation_matrix(labels_real,labels_pred):\n",
        "  real_0_pred_0 = 0\n",
        "  real_0_pred_1 = 0\n",
        "  real_1_pred_0 = 0\n",
        "  real_1_pred_1 = 0\n",
        "\n",
        "  for i in range(len(labels_real)):\n",
        "    if labels_real[i] == 0 and labels_pred[i] == 0:\n",
        "      real_0_pred_0+=1\n",
        "    elif labels_real[i] == 0 and labels_pred[i] == 1:\n",
        "      real_0_pred_1+=1\n",
        "    elif labels_real[i] == 1 and labels_pred[i] == 0:\n",
        "      real_1_pred_0+=1\n",
        "    else:\n",
        "      real_1_pred_1+=1\n",
        "\n",
        "  return [[real_0_pred_0,real_0_pred_1],[real_1_pred_0,real_1_pred_1]]\n",
        "      \n",
        "\n",
        "def plot_confusion_matrix(values,pred):\n",
        "\n",
        "  matrix = validation_matrix(values,pred)\n",
        "\n",
        "  fig, ax1= plt.subplots(1, sharex = True, sharey = False)\n",
        "  ax1.imshow(matrix, interpolation ='none', aspect = 'auto')\n",
        "  for (j,i),value in np.ndenumerate(matrix):\n",
        "      ax1.text(i,j,value,ha='center',va='center')\n",
        "\n",
        "  plt.show()\n",
        "\n",
        "def take_higher_and_lower_values(array, n_values):\n",
        "  index = np.argsort(array)\n",
        "\n",
        "  high_index = index[0:n_values]\n",
        "  low_index = index[-n_values:]\n",
        "\n",
        "  values = np.sort(array)\n",
        "\n",
        "  high_vals = values[0:n_values]\n",
        "  low_vals = values[-n_values:]\n",
        "\n",
        "  return [np.concatenate([high_vals,low_vals]),np.concatenate([high_index,low_index])]\n",
        "\n",
        "def force_plot_func(X,excepted_value,shap_values, n_elements,element_index):\n",
        "  values,index = take_higher_and_lower_values(shap_values[element_index,:],n_elements)\n",
        "  shap.initjs()\n",
        "  plt.figure(figsize=(200, 60), dpi=80)\n",
        "  shap.force_plot(excepted_value, values, X.columns[index],matplotlib=True)\n",
        "\n",
        "def print_variable_impact(shap_values,X,columns):\n",
        "  for col,feature in enumerate(columns):\n",
        "    impact = {}\n",
        "    for unique in X[feature].unique():\n",
        "      index = X[X[feature] == unique][feature].index\n",
        "      mean = 0\n",
        "      for i in index:\n",
        "        mean += shap_values[i][col]\n",
        "      mean = mean/len(index)\n",
        "      impact[feature] = mean\n",
        "\n",
        "      print(\"Feature: {}\\t value: {}\\t Impact: {}\".format(feature,unique,mean))\n",
        "    print(\"\\n\")\n",
        "\n",
        "def variable_impact(shap_values,X,columns):\n",
        "  impact = []\n",
        "  for col,feature in enumerate(columns):\n",
        "    for unique in X[feature].unique():\n",
        "      index = X[X[feature] == unique][feature].index\n",
        "      mean = 0\n",
        "      for i in index:\n",
        "        mean += shap_values[i][col]\n",
        "      mean = mean/len(index)\n",
        "      impact.append(mean)\n",
        "  return impact"
      ],
      "execution_count": null,
      "outputs": []
    },
    {
      "cell_type": "markdown",
      "metadata": {
        "id": "pglEyZV4Cl8q"
      },
      "source": [
        "# Imports"
      ]
    },
    {
      "cell_type": "code",
      "metadata": {
        "id": "x7DxtkMuCDBo",
        "colab": {
          "base_uri": "https://localhost:8080/"
        },
        "outputId": "ffadac51-a525-47d7-b926-0576c9a670d9"
      },
      "source": [
        "import pandas as pd\n",
        "import numpy as np\n",
        "import seaborn as sns\n",
        "import matplotlib.pyplot as plt\n",
        "import seaborn as sns\n",
        "from time import time\n",
        "import datetime\n",
        "!pip install shap\n",
        "import shap"
      ],
      "execution_count": null,
      "outputs": [
        {
          "output_type": "stream",
          "text": [
            "Collecting shap\n",
            "\u001b[?25l  Downloading https://files.pythonhosted.org/packages/b9/f4/c5b95cddae15be80f8e58b25edceca105aa83c0b8c86a1edad24a6af80d3/shap-0.39.0.tar.gz (356kB)\n",
            "\r\u001b[K     |█                               | 10kB 22.6MB/s eta 0:00:01\r\u001b[K     |█▉                              | 20kB 30.3MB/s eta 0:00:01\r\u001b[K     |██▊                             | 30kB 22.3MB/s eta 0:00:01\r\u001b[K     |███▊                            | 40kB 25.9MB/s eta 0:00:01\r\u001b[K     |████▋                           | 51kB 24.6MB/s eta 0:00:01\r\u001b[K     |█████▌                          | 61kB 27.1MB/s eta 0:00:01\r\u001b[K     |██████▍                         | 71kB 18.0MB/s eta 0:00:01\r\u001b[K     |███████▍                        | 81kB 19.4MB/s eta 0:00:01\r\u001b[K     |████████▎                       | 92kB 18.0MB/s eta 0:00:01\r\u001b[K     |█████████▏                      | 102kB 18.1MB/s eta 0:00:01\r\u001b[K     |██████████▏                     | 112kB 18.1MB/s eta 0:00:01\r\u001b[K     |███████████                     | 122kB 18.1MB/s eta 0:00:01\r\u001b[K     |████████████                    | 133kB 18.1MB/s eta 0:00:01\r\u001b[K     |████████████▉                   | 143kB 18.1MB/s eta 0:00:01\r\u001b[K     |█████████████▉                  | 153kB 18.1MB/s eta 0:00:01\r\u001b[K     |██████████████▊                 | 163kB 18.1MB/s eta 0:00:01\r\u001b[K     |███████████████▋                | 174kB 18.1MB/s eta 0:00:01\r\u001b[K     |████████████████▋               | 184kB 18.1MB/s eta 0:00:01\r\u001b[K     |█████████████████▌              | 194kB 18.1MB/s eta 0:00:01\r\u001b[K     |██████████████████▍             | 204kB 18.1MB/s eta 0:00:01\r\u001b[K     |███████████████████▎            | 215kB 18.1MB/s eta 0:00:01\r\u001b[K     |████████████████████▎           | 225kB 18.1MB/s eta 0:00:01\r\u001b[K     |█████████████████████▏          | 235kB 18.1MB/s eta 0:00:01\r\u001b[K     |██████████████████████          | 245kB 18.1MB/s eta 0:00:01\r\u001b[K     |███████████████████████         | 256kB 18.1MB/s eta 0:00:01\r\u001b[K     |████████████████████████        | 266kB 18.1MB/s eta 0:00:01\r\u001b[K     |████████████████████████▉       | 276kB 18.1MB/s eta 0:00:01\r\u001b[K     |█████████████████████████▊      | 286kB 18.1MB/s eta 0:00:01\r\u001b[K     |██████████████████████████▊     | 296kB 18.1MB/s eta 0:00:01\r\u001b[K     |███████████████████████████▋    | 307kB 18.1MB/s eta 0:00:01\r\u001b[K     |████████████████████████████▌   | 317kB 18.1MB/s eta 0:00:01\r\u001b[K     |█████████████████████████████▍  | 327kB 18.1MB/s eta 0:00:01\r\u001b[K     |██████████████████████████████▍ | 337kB 18.1MB/s eta 0:00:01\r\u001b[K     |███████████████████████████████▎| 348kB 18.1MB/s eta 0:00:01\r\u001b[K     |████████████████████████████████| 358kB 18.1MB/s \n",
            "\u001b[?25hRequirement already satisfied: numpy in /usr/local/lib/python3.7/dist-packages (from shap) (1.19.5)\n",
            "Requirement already satisfied: scipy in /usr/local/lib/python3.7/dist-packages (from shap) (1.4.1)\n",
            "Requirement already satisfied: scikit-learn in /usr/local/lib/python3.7/dist-packages (from shap) (0.22.2.post1)\n",
            "Requirement already satisfied: pandas in /usr/local/lib/python3.7/dist-packages (from shap) (1.1.5)\n",
            "Requirement already satisfied: tqdm>4.25.0 in /usr/local/lib/python3.7/dist-packages (from shap) (4.41.1)\n",
            "Collecting slicer==0.0.7\n",
            "  Downloading https://files.pythonhosted.org/packages/78/c2/b3f55dfdb8af9812fdb9baf70cacf3b9e82e505b2bd4324d588888b81202/slicer-0.0.7-py3-none-any.whl\n",
            "Requirement already satisfied: numba in /usr/local/lib/python3.7/dist-packages (from shap) (0.51.2)\n",
            "Requirement already satisfied: cloudpickle in /usr/local/lib/python3.7/dist-packages (from shap) (1.3.0)\n",
            "Requirement already satisfied: joblib>=0.11 in /usr/local/lib/python3.7/dist-packages (from scikit-learn->shap) (1.0.1)\n",
            "Requirement already satisfied: pytz>=2017.2 in /usr/local/lib/python3.7/dist-packages (from pandas->shap) (2018.9)\n",
            "Requirement already satisfied: python-dateutil>=2.7.3 in /usr/local/lib/python3.7/dist-packages (from pandas->shap) (2.8.1)\n",
            "Requirement already satisfied: setuptools in /usr/local/lib/python3.7/dist-packages (from numba->shap) (56.1.0)\n",
            "Requirement already satisfied: llvmlite<0.35,>=0.34.0.dev0 in /usr/local/lib/python3.7/dist-packages (from numba->shap) (0.34.0)\n",
            "Requirement already satisfied: six>=1.5 in /usr/local/lib/python3.7/dist-packages (from python-dateutil>=2.7.3->pandas->shap) (1.15.0)\n",
            "Building wheels for collected packages: shap\n",
            "  Building wheel for shap (setup.py) ... \u001b[?25l\u001b[?25hdone\n",
            "  Created wheel for shap: filename=shap-0.39.0-cp37-cp37m-linux_x86_64.whl size=491644 sha256=80e14103f6b607429004582fb6fe5753b348454a3b483e98ec5e1153ac1ab320\n",
            "  Stored in directory: /root/.cache/pip/wheels/15/27/f5/a8ab9da52fd159aae6477b5ede6eaaec69fd130fa0fa59f283\n",
            "Successfully built shap\n",
            "Installing collected packages: slicer, shap\n",
            "Successfully installed shap-0.39.0 slicer-0.0.7\n"
          ],
          "name": "stdout"
        }
      ]
    },
    {
      "cell_type": "markdown",
      "metadata": {
        "id": "Ob_xcSp-CoNW"
      },
      "source": [
        "# Carga de datos"
      ]
    },
    {
      "cell_type": "code",
      "metadata": {
        "id": "JES31cPVCGgu"
      },
      "source": [
        "csv_1 = pd.read_csv(\"https://raw.githubusercontent.com/FranArenas/Fran_Arenas_XAI_credit_card/main/data/application_record/csv_1.csv\")\n",
        "csv_2 = pd.read_csv(\"https://raw.githubusercontent.com/FranArenas/Fran_Arenas_XAI_credit_card/main/data/application_record/csv_2.csv\")\n",
        "csv_3 = pd.read_csv(\"https://raw.githubusercontent.com/FranArenas/Fran_Arenas_XAI_credit_card/main/data/application_record/csv_3.csv\")\n",
        "df_approval = pd.concat([csv_1,csv_2,csv_3], axis = 0)\n",
        "df_credit = pd.read_csv(\"https://raw.githubusercontent.com/FranArenas/Fran_Arenas_XAI_credit_card/main/data/credit_record.csv\")"
      ],
      "execution_count": null,
      "outputs": []
    },
    {
      "cell_type": "markdown",
      "metadata": {
        "id": "CIjXOXWVP0UZ"
      },
      "source": [
        "MONTHS_BALANCE : tiempo, en meses, que ha transcurrido desde la extracción de la información. 0 este mes, 1 hace un mes, etc.\n",
        "\n",
        "Status:\n",
        "  - 0: 1-29 días de retraso\n",
        "  - 1: 30-59 días de retraso\n",
        "  - 2: 60-89 días de retraso\n",
        "  - 3: 90-119 días de retraso\n",
        "  - 4: 120-149 días de retraso\n",
        "  - 5: Deudas insostenibles, cancelación \n",
        "  - C: Deudas pagadas ese mes\n",
        "  - X: Sin deudas ese mes\n"
      ]
    },
    {
      "cell_type": "code",
      "metadata": {
        "colab": {
          "base_uri": "https://localhost:8080/",
          "height": 195
        },
        "id": "z4_7gMbVCujU",
        "outputId": "c530e3b5-76ed-4a70-95b6-a7b7c9c03d45"
      },
      "source": [
        "df_credit.head()"
      ],
      "execution_count": null,
      "outputs": [
        {
          "output_type": "execute_result",
          "data": {
            "text/html": [
              "<div>\n",
              "<style scoped>\n",
              "    .dataframe tbody tr th:only-of-type {\n",
              "        vertical-align: middle;\n",
              "    }\n",
              "\n",
              "    .dataframe tbody tr th {\n",
              "        vertical-align: top;\n",
              "    }\n",
              "\n",
              "    .dataframe thead th {\n",
              "        text-align: right;\n",
              "    }\n",
              "</style>\n",
              "<table border=\"1\" class=\"dataframe\">\n",
              "  <thead>\n",
              "    <tr style=\"text-align: right;\">\n",
              "      <th></th>\n",
              "      <th>ID</th>\n",
              "      <th>MONTHS_BALANCE</th>\n",
              "      <th>STATUS</th>\n",
              "    </tr>\n",
              "  </thead>\n",
              "  <tbody>\n",
              "    <tr>\n",
              "      <th>0</th>\n",
              "      <td>5001711</td>\n",
              "      <td>0</td>\n",
              "      <td>X</td>\n",
              "    </tr>\n",
              "    <tr>\n",
              "      <th>1</th>\n",
              "      <td>5001711</td>\n",
              "      <td>-1</td>\n",
              "      <td>0</td>\n",
              "    </tr>\n",
              "    <tr>\n",
              "      <th>2</th>\n",
              "      <td>5001711</td>\n",
              "      <td>-2</td>\n",
              "      <td>0</td>\n",
              "    </tr>\n",
              "    <tr>\n",
              "      <th>3</th>\n",
              "      <td>5001711</td>\n",
              "      <td>-3</td>\n",
              "      <td>0</td>\n",
              "    </tr>\n",
              "    <tr>\n",
              "      <th>4</th>\n",
              "      <td>5001712</td>\n",
              "      <td>0</td>\n",
              "      <td>C</td>\n",
              "    </tr>\n",
              "  </tbody>\n",
              "</table>\n",
              "</div>"
            ],
            "text/plain": [
              "        ID  MONTHS_BALANCE STATUS\n",
              "0  5001711               0      X\n",
              "1  5001711              -1      0\n",
              "2  5001711              -2      0\n",
              "3  5001711              -3      0\n",
              "4  5001712               0      C"
            ]
          },
          "metadata": {
            "tags": []
          },
          "execution_count": 7
        }
      ]
    },
    {
      "cell_type": "markdown",
      "metadata": {
        "id": "5_RgXj8qTkWG"
      },
      "source": [
        "# Creación de dataset principal"
      ]
    },
    {
      "cell_type": "markdown",
      "metadata": {
        "id": "9yZmc5UgTt6x"
      },
      "source": [
        "## Modificacion del dataset de crédito"
      ]
    },
    {
      "cell_type": "markdown",
      "metadata": {
        "id": "3DeaWo4jTyuh"
      },
      "source": [
        "Modificaremos los valores de STATUS X y C canviándolos por 0. De esta manera ampliaremos la categoría cero a \"Sin deuda o con deuda inferior a 30 días\". De esta manera todas nuestras variables serán numéricas\n",
        "\n",
        "\n",
        "\n",
        "\n"
      ]
    },
    {
      "cell_type": "code",
      "metadata": {
        "id": "E3fS15ssFXdC"
      },
      "source": [
        "df_credit[\"STATUS\"] = df_credit[\"STATUS\"].replace([\"X\"],0)\n",
        "df_credit[\"STATUS\"] = df_credit[\"STATUS\"].replace([\"C\"],0)\n",
        "\n",
        "df_credit[\"STATUS\"] = df_credit[\"STATUS\"].apply(pd.to_numeric) #Pasamos a tipo numércio"
      ],
      "execution_count": null,
      "outputs": []
    },
    {
      "cell_type": "markdown",
      "metadata": {
        "id": "XIfzeUdTVe5v"
      },
      "source": [
        "\n",
        "Para cada cliente (ID) seleccionamos su STATUS más elevado considerando este valor como su **factor de riesgo** (Varaible a predecir)\n",
        "\n",
        "\n"
      ]
    },
    {
      "cell_type": "code",
      "metadata": {
        "id": "3qyUMr3cVMyO"
      },
      "source": [
        "df_credit = df_credit.groupby(\"ID\")[\"STATUS\"].max().reset_index()"
      ],
      "execution_count": null,
      "outputs": []
    },
    {
      "cell_type": "code",
      "metadata": {
        "colab": {
          "base_uri": "https://localhost:8080/"
        },
        "id": "fyObCsmsV1Ss",
        "outputId": "a1bb4742-a2dc-4b54-fc1d-db98824b4792"
      },
      "source": [
        "df_credit.head()"
      ],
      "execution_count": null,
      "outputs": [
        {
          "output_type": "execute_result",
          "data": {
            "text/html": [
              "<div>\n",
              "<style scoped>\n",
              "    .dataframe tbody tr th:only-of-type {\n",
              "        vertical-align: middle;\n",
              "    }\n",
              "\n",
              "    .dataframe tbody tr th {\n",
              "        vertical-align: top;\n",
              "    }\n",
              "\n",
              "    .dataframe thead th {\n",
              "        text-align: right;\n",
              "    }\n",
              "</style>\n",
              "<table border=\"1\" class=\"dataframe\">\n",
              "  <thead>\n",
              "    <tr style=\"text-align: right;\">\n",
              "      <th></th>\n",
              "      <th>ID</th>\n",
              "      <th>STATUS</th>\n",
              "    </tr>\n",
              "  </thead>\n",
              "  <tbody>\n",
              "    <tr>\n",
              "      <th>0</th>\n",
              "      <td>5001711</td>\n",
              "      <td>0</td>\n",
              "    </tr>\n",
              "    <tr>\n",
              "      <th>1</th>\n",
              "      <td>5001712</td>\n",
              "      <td>0</td>\n",
              "    </tr>\n",
              "    <tr>\n",
              "      <th>2</th>\n",
              "      <td>5001713</td>\n",
              "      <td>0</td>\n",
              "    </tr>\n",
              "    <tr>\n",
              "      <th>3</th>\n",
              "      <td>5001714</td>\n",
              "      <td>0</td>\n",
              "    </tr>\n",
              "    <tr>\n",
              "      <th>4</th>\n",
              "      <td>5001715</td>\n",
              "      <td>0</td>\n",
              "    </tr>\n",
              "  </tbody>\n",
              "</table>\n",
              "</div>"
            ],
            "text/plain": [
              "        ID  STATUS\n",
              "0  5001711       0\n",
              "1  5001712       0\n",
              "2  5001713       0\n",
              "3  5001714       0\n",
              "4  5001715       0"
            ]
          },
          "metadata": {
            "tags": []
          },
          "execution_count": 10
        }
      ]
    },
    {
      "cell_type": "markdown",
      "metadata": {
        "id": "C4sxCc-HcALX"
      },
      "source": [
        "## Fusión de los dos datasets"
      ]
    },
    {
      "cell_type": "code",
      "metadata": {
        "colab": {
          "base_uri": "https://localhost:8080/"
        },
        "id": "jzNsfmMsXSfa",
        "outputId": "e5dbd567-3312-4b3b-b2b7-2bd35f68f576"
      },
      "source": [
        "df = pd.merge(df_approval, df_credit, left_on = \"ID\", right_on= \"ID\")\n",
        "\n",
        "df.shape"
      ],
      "execution_count": null,
      "outputs": [
        {
          "output_type": "execute_result",
          "data": {
            "text/plain": [
              "(36457, 19)"
            ]
          },
          "metadata": {
            "tags": []
          },
          "execution_count": 11
        }
      ]
    },
    {
      "cell_type": "markdown",
      "metadata": {
        "id": "gcQ1YcUky6Sa"
      },
      "source": [
        "# EDA"
      ]
    },
    {
      "cell_type": "code",
      "metadata": {
        "id": "v1OCyh3qy8tX",
        "colab": {
          "base_uri": "https://localhost:8080/",
          "height": 266
        },
        "outputId": "5b915a57-4835-42c1-ea25-e541ee9a22b4"
      },
      "source": [
        "df.head()"
      ],
      "execution_count": null,
      "outputs": [
        {
          "output_type": "execute_result",
          "data": {
            "text/html": [
              "<div>\n",
              "<style scoped>\n",
              "    .dataframe tbody tr th:only-of-type {\n",
              "        vertical-align: middle;\n",
              "    }\n",
              "\n",
              "    .dataframe tbody tr th {\n",
              "        vertical-align: top;\n",
              "    }\n",
              "\n",
              "    .dataframe thead th {\n",
              "        text-align: right;\n",
              "    }\n",
              "</style>\n",
              "<table border=\"1\" class=\"dataframe\">\n",
              "  <thead>\n",
              "    <tr style=\"text-align: right;\">\n",
              "      <th></th>\n",
              "      <th>ID</th>\n",
              "      <th>CODE_GENDER</th>\n",
              "      <th>FLAG_OWN_CAR</th>\n",
              "      <th>FLAG_OWN_REALTY</th>\n",
              "      <th>CNT_CHILDREN</th>\n",
              "      <th>AMT_INCOME_TOTAL</th>\n",
              "      <th>NAME_INCOME_TYPE</th>\n",
              "      <th>NAME_EDUCATION_TYPE</th>\n",
              "      <th>NAME_FAMILY_STATUS</th>\n",
              "      <th>NAME_HOUSING_TYPE</th>\n",
              "      <th>DAYS_BIRTH</th>\n",
              "      <th>DAYS_EMPLOYED</th>\n",
              "      <th>FLAG_MOBIL</th>\n",
              "      <th>FLAG_WORK_PHONE</th>\n",
              "      <th>FLAG_PHONE</th>\n",
              "      <th>FLAG_EMAIL</th>\n",
              "      <th>OCCUPATION_TYPE</th>\n",
              "      <th>CNT_FAM_MEMBERS</th>\n",
              "      <th>STATUS</th>\n",
              "    </tr>\n",
              "  </thead>\n",
              "  <tbody>\n",
              "    <tr>\n",
              "      <th>0</th>\n",
              "      <td>5008804</td>\n",
              "      <td>M</td>\n",
              "      <td>Y</td>\n",
              "      <td>Y</td>\n",
              "      <td>0</td>\n",
              "      <td>427500.0</td>\n",
              "      <td>Working</td>\n",
              "      <td>Higher education</td>\n",
              "      <td>Civil marriage</td>\n",
              "      <td>Rented apartment</td>\n",
              "      <td>-12005</td>\n",
              "      <td>-4542</td>\n",
              "      <td>1</td>\n",
              "      <td>1</td>\n",
              "      <td>0</td>\n",
              "      <td>0</td>\n",
              "      <td>NaN</td>\n",
              "      <td>2.0</td>\n",
              "      <td>1</td>\n",
              "    </tr>\n",
              "    <tr>\n",
              "      <th>1</th>\n",
              "      <td>5008805</td>\n",
              "      <td>M</td>\n",
              "      <td>Y</td>\n",
              "      <td>Y</td>\n",
              "      <td>0</td>\n",
              "      <td>427500.0</td>\n",
              "      <td>Working</td>\n",
              "      <td>Higher education</td>\n",
              "      <td>Civil marriage</td>\n",
              "      <td>Rented apartment</td>\n",
              "      <td>-12005</td>\n",
              "      <td>-4542</td>\n",
              "      <td>1</td>\n",
              "      <td>1</td>\n",
              "      <td>0</td>\n",
              "      <td>0</td>\n",
              "      <td>NaN</td>\n",
              "      <td>2.0</td>\n",
              "      <td>1</td>\n",
              "    </tr>\n",
              "    <tr>\n",
              "      <th>2</th>\n",
              "      <td>5008806</td>\n",
              "      <td>M</td>\n",
              "      <td>Y</td>\n",
              "      <td>Y</td>\n",
              "      <td>0</td>\n",
              "      <td>112500.0</td>\n",
              "      <td>Working</td>\n",
              "      <td>Secondary / secondary special</td>\n",
              "      <td>Married</td>\n",
              "      <td>House / apartment</td>\n",
              "      <td>-21474</td>\n",
              "      <td>-1134</td>\n",
              "      <td>1</td>\n",
              "      <td>0</td>\n",
              "      <td>0</td>\n",
              "      <td>0</td>\n",
              "      <td>Security staff</td>\n",
              "      <td>2.0</td>\n",
              "      <td>0</td>\n",
              "    </tr>\n",
              "    <tr>\n",
              "      <th>3</th>\n",
              "      <td>5008808</td>\n",
              "      <td>F</td>\n",
              "      <td>N</td>\n",
              "      <td>Y</td>\n",
              "      <td>0</td>\n",
              "      <td>270000.0</td>\n",
              "      <td>Commercial associate</td>\n",
              "      <td>Secondary / secondary special</td>\n",
              "      <td>Single / not married</td>\n",
              "      <td>House / apartment</td>\n",
              "      <td>-19110</td>\n",
              "      <td>-3051</td>\n",
              "      <td>1</td>\n",
              "      <td>0</td>\n",
              "      <td>1</td>\n",
              "      <td>1</td>\n",
              "      <td>Sales staff</td>\n",
              "      <td>1.0</td>\n",
              "      <td>0</td>\n",
              "    </tr>\n",
              "    <tr>\n",
              "      <th>4</th>\n",
              "      <td>5008809</td>\n",
              "      <td>F</td>\n",
              "      <td>N</td>\n",
              "      <td>Y</td>\n",
              "      <td>0</td>\n",
              "      <td>270000.0</td>\n",
              "      <td>Commercial associate</td>\n",
              "      <td>Secondary / secondary special</td>\n",
              "      <td>Single / not married</td>\n",
              "      <td>House / apartment</td>\n",
              "      <td>-19110</td>\n",
              "      <td>-3051</td>\n",
              "      <td>1</td>\n",
              "      <td>0</td>\n",
              "      <td>1</td>\n",
              "      <td>1</td>\n",
              "      <td>Sales staff</td>\n",
              "      <td>1.0</td>\n",
              "      <td>0</td>\n",
              "    </tr>\n",
              "  </tbody>\n",
              "</table>\n",
              "</div>"
            ],
            "text/plain": [
              "        ID CODE_GENDER FLAG_OWN_CAR  ... OCCUPATION_TYPE  CNT_FAM_MEMBERS  STATUS\n",
              "0  5008804           M            Y  ...             NaN              2.0       1\n",
              "1  5008805           M            Y  ...             NaN              2.0       1\n",
              "2  5008806           M            Y  ...  Security staff              2.0       0\n",
              "3  5008808           F            N  ...     Sales staff              1.0       0\n",
              "4  5008809           F            N  ...     Sales staff              1.0       0\n",
              "\n",
              "[5 rows x 19 columns]"
            ]
          },
          "metadata": {
            "tags": []
          },
          "execution_count": 12
        }
      ]
    },
    {
      "cell_type": "markdown",
      "metadata": {
        "id": "qSOuFiyZ80QQ"
      },
      "source": [
        "# Rango de valores por cada varaible"
      ]
    },
    {
      "cell_type": "markdown",
      "metadata": {
        "id": "V936IBeG-xo5"
      },
      "source": [
        ""
      ]
    },
    {
      "cell_type": "code",
      "metadata": {
        "colab": {
          "base_uri": "https://localhost:8080/"
        },
        "id": "Ln-En_ux8-XW",
        "outputId": "2b0b01d5-38bd-4eb1-dd6f-85884fb306cf"
      },
      "source": [
        "df.columns"
      ],
      "execution_count": null,
      "outputs": [
        {
          "output_type": "execute_result",
          "data": {
            "text/plain": [
              "Index(['ID', 'CODE_GENDER', 'FLAG_OWN_CAR', 'FLAG_OWN_REALTY', 'CNT_CHILDREN',\n",
              "       'AMT_INCOME_TOTAL', 'NAME_INCOME_TYPE', 'NAME_EDUCATION_TYPE',\n",
              "       'NAME_FAMILY_STATUS', 'NAME_HOUSING_TYPE', 'DAYS_BIRTH',\n",
              "       'DAYS_EMPLOYED', 'FLAG_MOBIL', 'FLAG_WORK_PHONE', 'FLAG_PHONE',\n",
              "       'FLAG_EMAIL', 'OCCUPATION_TYPE', 'CNT_FAM_MEMBERS', 'STATUS'],\n",
              "      dtype='object')"
            ]
          },
          "metadata": {
            "tags": []
          },
          "execution_count": 13
        }
      ]
    },
    {
      "cell_type": "code",
      "metadata": {
        "colab": {
          "base_uri": "https://localhost:8080/"
        },
        "id": "Fyu-7i2m8z7u",
        "outputId": "3461988c-5c45-4a08-d263-b3a20dc9bc49"
      },
      "source": [
        "for col in df.columns:\n",
        "  if df[col].dtype == object:\n",
        "    print(\"Feature: {}\\t valores: {}\".format(col,df[col].unique()))\n",
        "  else:\n",
        "    print(\"Feature: {}\\t valores: {} to {}\".format(col,min(df[col]),max(df[col])))"
      ],
      "execution_count": null,
      "outputs": [
        {
          "output_type": "stream",
          "text": [
            "Feature: ID\t valores: 5008804 to 5150487\n",
            "Feature: CODE_GENDER\t valores: ['M' 'F']\n",
            "Feature: FLAG_OWN_CAR\t valores: ['Y' 'N']\n",
            "Feature: FLAG_OWN_REALTY\t valores: ['Y' 'N']\n",
            "Feature: CNT_CHILDREN\t valores: 0 to 19\n",
            "Feature: AMT_INCOME_TOTAL\t valores: 27000.0 to 1575000.0\n",
            "Feature: NAME_INCOME_TYPE\t valores: ['Working' 'Commercial associate' 'Pensioner' 'State servant' 'Student']\n",
            "Feature: NAME_EDUCATION_TYPE\t valores: ['Higher education' 'Secondary / secondary special' 'Incomplete higher'\n",
            " 'Lower secondary' 'Academic degree']\n",
            "Feature: NAME_FAMILY_STATUS\t valores: ['Civil marriage' 'Married' 'Single / not married' 'Separated' 'Widow']\n",
            "Feature: NAME_HOUSING_TYPE\t valores: ['Rented apartment' 'House / apartment' 'Municipal apartment'\n",
            " 'With parents' 'Co-op apartment' 'Office apartment']\n",
            "Feature: DAYS_BIRTH\t valores: -25152 to -7489\n",
            "Feature: DAYS_EMPLOYED\t valores: -15713 to 365243\n",
            "Feature: FLAG_MOBIL\t valores: 1 to 1\n",
            "Feature: FLAG_WORK_PHONE\t valores: 0 to 1\n",
            "Feature: FLAG_PHONE\t valores: 0 to 1\n",
            "Feature: FLAG_EMAIL\t valores: 0 to 1\n",
            "Feature: OCCUPATION_TYPE\t valores: [nan 'Security staff' 'Sales staff' 'Accountants' 'Laborers' 'Managers'\n",
            " 'Drivers' 'Core staff' 'High skill tech staff' 'Cleaning staff'\n",
            " 'Private service staff' 'Cooking staff' 'Low-skill Laborers'\n",
            " 'Medicine staff' 'Secretaries' 'Waiters/barmen staff' 'HR staff'\n",
            " 'Realty agents' 'IT staff']\n",
            "Feature: CNT_FAM_MEMBERS\t valores: 1.0 to 20.0\n",
            "Feature: STATUS\t valores: 0 to 5\n"
          ],
          "name": "stdout"
        }
      ]
    },
    {
      "cell_type": "markdown",
      "metadata": {
        "id": "rDo5Hb-5h1K4"
      },
      "source": [
        "## Distribución de variables de mayor interés"
      ]
    },
    {
      "cell_type": "code",
      "metadata": {
        "colab": {
          "base_uri": "https://localhost:8080/"
        },
        "id": "hU-_BpOZjEb1",
        "outputId": "b906317f-2b9f-45bf-a2db-05b367e6dfb3"
      },
      "source": [
        "plt.figure(figsize=(8, 6), dpi=80)\n",
        "clients = [df['STATUS'][df['STATUS'] == 0].shape[0],df['STATUS'][df['STATUS'] == 1].shape[0]]\n",
        "plt.pie(clients, labels= [\"Good client {}\".format(clients[0]), \"High risk client {}\".format(clients[1])], colors= [\"green\",\"red\"]);"
      ],
      "execution_count": null,
      "outputs": [
        {
          "output_type": "display_data",
          "data": {
            "image/png": "[encoded data removed]",
            "text/plain": [
              "<Figure size 640x480 with 1 Axes>"
            ]
          },
          "metadata": {
            "tags": []
          }
        }
      ]
    },
    {
      "cell_type": "code",
      "metadata": {
        "colab": {
          "base_uri": "https://localhost:8080/"
        },
        "id": "9LCEx4erfxkY",
        "outputId": "6d88d55d-afe3-4695-ff5c-ecb969dd29c0"
      },
      "source": [
        "plt.figure(figsize=(8, 6), dpi=80)\n",
        "code_gender = [df['CODE_GENDER'][df['CODE_GENDER'] == 'M'].shape[0],df['CODE_GENDER'][df['CODE_GENDER'] == 'F'].shape[0]]\n",
        "plt.pie(code_gender, labels= [\"Male {}\".format(code_gender[0]), \"Female {}\".format(code_gender[1])], colors= [\"blue\",\"purple\"]);"
      ],
      "execution_count": null,
      "outputs": [
        {
          "output_type": "display_data",
          "data": {
            "image/png": "[encoded data removed]",
            "text/plain": [
              "<Figure size 640x480 with 1 Axes>"
            ]
          },
          "metadata": {
            "tags": []
          }
        }
      ]
    },
    {
      "cell_type": "code",
      "metadata": {
        "colab": {
          "base_uri": "https://localhost:8080/"
        },
        "id": "szkUi3OqkB6g",
        "outputId": "3b8140fe-6b02-4e3b-cc67-8834d4fa7df8"
      },
      "source": [
        "plt.figure(figsize=(30, 8), dpi=80)\n",
        "\n",
        "jobs = df['OCCUPATION_TYPE'].unique()\n",
        "job_count = []\n",
        "\n",
        "for job in jobs:\n",
        "  job_count.append(df['OCCUPATION_TYPE'][df['OCCUPATION_TYPE'] == job].shape[0])\n",
        "\n",
        "sns.barplot(jobs,job_count).set_title(\"OCCUPATION_TYPE\")"
      ],
      "execution_count": null,
      "outputs": [
        {
          "output_type": "stream",
          "text": [
            "Pass the following variables as keyword args: x, y. From version 0.12, the only valid positional argument will be `data`, and passing other arguments without an explicit keyword will result in an error or misinterpretation.\n"
          ],
          "name": "stderr"
        },
        {
          "output_type": "execute_result",
          "data": {
            "text/plain": [
              "Text(0.5, 1.0, 'OCCUPATION_TYPE')"
            ]
          },
          "metadata": {
            "tags": []
          },
          "execution_count": 17
        },
        {
          "output_type": "display_data",
          "data": {
            "image/png": "[encoded data removed]",
            "text/plain": [
              "<Figure size 2400x640 with 1 Axes>"
            ]
          },
          "metadata": {
            "tags": [],
            "needs_background": "light"
          }
        }
      ]
    },
    {
      "cell_type": "code",
      "metadata": {
        "colab": {
          "base_uri": "https://localhost:8080/"
        },
        "id": "QKNj6IycpwwM",
        "outputId": "f3970fe3-9db6-4312-d0ec-a16a700f7710"
      },
      "source": [
        "plt.figure(figsize=(12, 6), dpi=80)\n",
        "\n",
        "jobs = df['NAME_EDUCATION_TYPE'].unique()\n",
        "job_count = []\n",
        "\n",
        "for job in jobs:\n",
        "  job_count.append(df['NAME_EDUCATION_TYPE'][df['NAME_EDUCATION_TYPE'] == job].shape[0])\n",
        "\n",
        "sns.barplot(jobs,job_count).set_title(\"NAME_EDUCATION_TYPE\")"
      ],
      "execution_count": null,
      "outputs": [
        {
          "output_type": "stream",
          "text": [
            "Pass the following variables as keyword args: x, y. From version 0.12, the only valid positional argument will be `data`, and passing other arguments without an explicit keyword will result in an error or misinterpretation.\n"
          ],
          "name": "stderr"
        },
        {
          "output_type": "execute_result",
          "data": {
            "text/plain": [
              "Text(0.5, 1.0, 'NAME_EDUCATION_TYPE')"
            ]
          },
          "metadata": {
            "tags": []
          },
          "execution_count": 18
        },
        {
          "output_type": "display_data",
          "data": {
            "image/png": "[encoded data removed]",
            "text/plain": [
              "<Figure size 960x480 with 1 Axes>"
            ]
          },
          "metadata": {
            "tags": [],
            "needs_background": "light"
          }
        }
      ]
    },
    {
      "cell_type": "markdown",
      "metadata": {
        "id": "O7kzU6pZckSD"
      },
      "source": [
        "# Limpieza de datos"
      ]
    },
    {
      "cell_type": "code",
      "metadata": {
        "colab": {
          "base_uri": "https://localhost:8080/",
          "height": 266
        },
        "id": "Ze3KEhKncyg6",
        "outputId": "d99374bd-3b08-4216-a3d8-1b8beb4c4eda"
      },
      "source": [
        "df.head()"
      ],
      "execution_count": null,
      "outputs": [
        {
          "output_type": "execute_result",
          "data": {
            "text/html": [
              "<div>\n",
              "<style scoped>\n",
              "    .dataframe tbody tr th:only-of-type {\n",
              "        vertical-align: middle;\n",
              "    }\n",
              "\n",
              "    .dataframe tbody tr th {\n",
              "        vertical-align: top;\n",
              "    }\n",
              "\n",
              "    .dataframe thead th {\n",
              "        text-align: right;\n",
              "    }\n",
              "</style>\n",
              "<table border=\"1\" class=\"dataframe\">\n",
              "  <thead>\n",
              "    <tr style=\"text-align: right;\">\n",
              "      <th></th>\n",
              "      <th>ID</th>\n",
              "      <th>CODE_GENDER</th>\n",
              "      <th>FLAG_OWN_CAR</th>\n",
              "      <th>FLAG_OWN_REALTY</th>\n",
              "      <th>CNT_CHILDREN</th>\n",
              "      <th>AMT_INCOME_TOTAL</th>\n",
              "      <th>NAME_INCOME_TYPE</th>\n",
              "      <th>NAME_EDUCATION_TYPE</th>\n",
              "      <th>NAME_FAMILY_STATUS</th>\n",
              "      <th>NAME_HOUSING_TYPE</th>\n",
              "      <th>DAYS_BIRTH</th>\n",
              "      <th>DAYS_EMPLOYED</th>\n",
              "      <th>FLAG_MOBIL</th>\n",
              "      <th>FLAG_WORK_PHONE</th>\n",
              "      <th>FLAG_PHONE</th>\n",
              "      <th>FLAG_EMAIL</th>\n",
              "      <th>OCCUPATION_TYPE</th>\n",
              "      <th>CNT_FAM_MEMBERS</th>\n",
              "      <th>STATUS</th>\n",
              "    </tr>\n",
              "  </thead>\n",
              "  <tbody>\n",
              "    <tr>\n",
              "      <th>0</th>\n",
              "      <td>5008804</td>\n",
              "      <td>M</td>\n",
              "      <td>Y</td>\n",
              "      <td>Y</td>\n",
              "      <td>0</td>\n",
              "      <td>427500.0</td>\n",
              "      <td>Working</td>\n",
              "      <td>Higher education</td>\n",
              "      <td>Civil marriage</td>\n",
              "      <td>Rented apartment</td>\n",
              "      <td>-12005</td>\n",
              "      <td>-4542</td>\n",
              "      <td>1</td>\n",
              "      <td>1</td>\n",
              "      <td>0</td>\n",
              "      <td>0</td>\n",
              "      <td>NaN</td>\n",
              "      <td>2.0</td>\n",
              "      <td>1</td>\n",
              "    </tr>\n",
              "    <tr>\n",
              "      <th>1</th>\n",
              "      <td>5008805</td>\n",
              "      <td>M</td>\n",
              "      <td>Y</td>\n",
              "      <td>Y</td>\n",
              "      <td>0</td>\n",
              "      <td>427500.0</td>\n",
              "      <td>Working</td>\n",
              "      <td>Higher education</td>\n",
              "      <td>Civil marriage</td>\n",
              "      <td>Rented apartment</td>\n",
              "      <td>-12005</td>\n",
              "      <td>-4542</td>\n",
              "      <td>1</td>\n",
              "      <td>1</td>\n",
              "      <td>0</td>\n",
              "      <td>0</td>\n",
              "      <td>NaN</td>\n",
              "      <td>2.0</td>\n",
              "      <td>1</td>\n",
              "    </tr>\n",
              "    <tr>\n",
              "      <th>2</th>\n",
              "      <td>5008806</td>\n",
              "      <td>M</td>\n",
              "      <td>Y</td>\n",
              "      <td>Y</td>\n",
              "      <td>0</td>\n",
              "      <td>112500.0</td>\n",
              "      <td>Working</td>\n",
              "      <td>Secondary / secondary special</td>\n",
              "      <td>Married</td>\n",
              "      <td>House / apartment</td>\n",
              "      <td>-21474</td>\n",
              "      <td>-1134</td>\n",
              "      <td>1</td>\n",
              "      <td>0</td>\n",
              "      <td>0</td>\n",
              "      <td>0</td>\n",
              "      <td>Security staff</td>\n",
              "      <td>2.0</td>\n",
              "      <td>0</td>\n",
              "    </tr>\n",
              "    <tr>\n",
              "      <th>3</th>\n",
              "      <td>5008808</td>\n",
              "      <td>F</td>\n",
              "      <td>N</td>\n",
              "      <td>Y</td>\n",
              "      <td>0</td>\n",
              "      <td>270000.0</td>\n",
              "      <td>Commercial associate</td>\n",
              "      <td>Secondary / secondary special</td>\n",
              "      <td>Single / not married</td>\n",
              "      <td>House / apartment</td>\n",
              "      <td>-19110</td>\n",
              "      <td>-3051</td>\n",
              "      <td>1</td>\n",
              "      <td>0</td>\n",
              "      <td>1</td>\n",
              "      <td>1</td>\n",
              "      <td>Sales staff</td>\n",
              "      <td>1.0</td>\n",
              "      <td>0</td>\n",
              "    </tr>\n",
              "    <tr>\n",
              "      <th>4</th>\n",
              "      <td>5008809</td>\n",
              "      <td>F</td>\n",
              "      <td>N</td>\n",
              "      <td>Y</td>\n",
              "      <td>0</td>\n",
              "      <td>270000.0</td>\n",
              "      <td>Commercial associate</td>\n",
              "      <td>Secondary / secondary special</td>\n",
              "      <td>Single / not married</td>\n",
              "      <td>House / apartment</td>\n",
              "      <td>-19110</td>\n",
              "      <td>-3051</td>\n",
              "      <td>1</td>\n",
              "      <td>0</td>\n",
              "      <td>1</td>\n",
              "      <td>1</td>\n",
              "      <td>Sales staff</td>\n",
              "      <td>1.0</td>\n",
              "      <td>0</td>\n",
              "    </tr>\n",
              "  </tbody>\n",
              "</table>\n",
              "</div>"
            ],
            "text/plain": [
              "        ID CODE_GENDER FLAG_OWN_CAR  ... OCCUPATION_TYPE  CNT_FAM_MEMBERS  STATUS\n",
              "0  5008804           M            Y  ...             NaN              2.0       1\n",
              "1  5008805           M            Y  ...             NaN              2.0       1\n",
              "2  5008806           M            Y  ...  Security staff              2.0       0\n",
              "3  5008808           F            N  ...     Sales staff              1.0       0\n",
              "4  5008809           F            N  ...     Sales staff              1.0       0\n",
              "\n",
              "[5 rows x 19 columns]"
            ]
          },
          "metadata": {
            "tags": []
          },
          "execution_count": 19
        }
      ]
    },
    {
      "cell_type": "markdown",
      "metadata": {
        "id": "9QfEcdSPeR5W"
      },
      "source": [
        "Convertimos la variable a predecir en una  varaible binaria"
      ]
    },
    {
      "cell_type": "code",
      "metadata": {
        "id": "iOZRVd_hc7WH"
      },
      "source": [
        "df[\"bad_client\"] = np.where(df[\"STATUS\"] < 1 , 0,1)\n",
        "\n",
        "df.drop(\"STATUS\", axis = 1, inplace = True)"
      ],
      "execution_count": null,
      "outputs": []
    },
    {
      "cell_type": "code",
      "metadata": {
        "colab": {
          "base_uri": "https://localhost:8080/",
          "height": 506
        },
        "id": "CpmLZlJ0luHH",
        "outputId": "b75cfbaf-487a-4a8f-99d5-b6c3cb7d9e65"
      },
      "source": [
        "df[df[\"bad_client\"] == 1]"
      ],
      "execution_count": null,
      "outputs": [
        {
          "output_type": "execute_result",
          "data": {
            "text/html": [
              "<div>\n",
              "<style scoped>\n",
              "    .dataframe tbody tr th:only-of-type {\n",
              "        vertical-align: middle;\n",
              "    }\n",
              "\n",
              "    .dataframe tbody tr th {\n",
              "        vertical-align: top;\n",
              "    }\n",
              "\n",
              "    .dataframe thead th {\n",
              "        text-align: right;\n",
              "    }\n",
              "</style>\n",
              "<table border=\"1\" class=\"dataframe\">\n",
              "  <thead>\n",
              "    <tr style=\"text-align: right;\">\n",
              "      <th></th>\n",
              "      <th>ID</th>\n",
              "      <th>CODE_GENDER</th>\n",
              "      <th>FLAG_OWN_CAR</th>\n",
              "      <th>FLAG_OWN_REALTY</th>\n",
              "      <th>CNT_CHILDREN</th>\n",
              "      <th>AMT_INCOME_TOTAL</th>\n",
              "      <th>NAME_INCOME_TYPE</th>\n",
              "      <th>NAME_EDUCATION_TYPE</th>\n",
              "      <th>NAME_FAMILY_STATUS</th>\n",
              "      <th>NAME_HOUSING_TYPE</th>\n",
              "      <th>DAYS_BIRTH</th>\n",
              "      <th>DAYS_EMPLOYED</th>\n",
              "      <th>FLAG_MOBIL</th>\n",
              "      <th>FLAG_WORK_PHONE</th>\n",
              "      <th>FLAG_PHONE</th>\n",
              "      <th>FLAG_EMAIL</th>\n",
              "      <th>OCCUPATION_TYPE</th>\n",
              "      <th>CNT_FAM_MEMBERS</th>\n",
              "      <th>bad_client</th>\n",
              "    </tr>\n",
              "  </thead>\n",
              "  <tbody>\n",
              "    <tr>\n",
              "      <th>0</th>\n",
              "      <td>5008804</td>\n",
              "      <td>M</td>\n",
              "      <td>Y</td>\n",
              "      <td>Y</td>\n",
              "      <td>0</td>\n",
              "      <td>427500.0</td>\n",
              "      <td>Working</td>\n",
              "      <td>Higher education</td>\n",
              "      <td>Civil marriage</td>\n",
              "      <td>Rented apartment</td>\n",
              "      <td>-12005</td>\n",
              "      <td>-4542</td>\n",
              "      <td>1</td>\n",
              "      <td>1</td>\n",
              "      <td>0</td>\n",
              "      <td>0</td>\n",
              "      <td>NaN</td>\n",
              "      <td>2.0</td>\n",
              "      <td>1</td>\n",
              "    </tr>\n",
              "    <tr>\n",
              "      <th>1</th>\n",
              "      <td>5008805</td>\n",
              "      <td>M</td>\n",
              "      <td>Y</td>\n",
              "      <td>Y</td>\n",
              "      <td>0</td>\n",
              "      <td>427500.0</td>\n",
              "      <td>Working</td>\n",
              "      <td>Higher education</td>\n",
              "      <td>Civil marriage</td>\n",
              "      <td>Rented apartment</td>\n",
              "      <td>-12005</td>\n",
              "      <td>-4542</td>\n",
              "      <td>1</td>\n",
              "      <td>1</td>\n",
              "      <td>0</td>\n",
              "      <td>0</td>\n",
              "      <td>NaN</td>\n",
              "      <td>2.0</td>\n",
              "      <td>1</td>\n",
              "    </tr>\n",
              "    <tr>\n",
              "      <th>18</th>\n",
              "      <td>5008825</td>\n",
              "      <td>F</td>\n",
              "      <td>Y</td>\n",
              "      <td>N</td>\n",
              "      <td>0</td>\n",
              "      <td>130500.0</td>\n",
              "      <td>Working</td>\n",
              "      <td>Incomplete higher</td>\n",
              "      <td>Married</td>\n",
              "      <td>House / apartment</td>\n",
              "      <td>-10669</td>\n",
              "      <td>-1103</td>\n",
              "      <td>1</td>\n",
              "      <td>0</td>\n",
              "      <td>0</td>\n",
              "      <td>0</td>\n",
              "      <td>Accountants</td>\n",
              "      <td>2.0</td>\n",
              "      <td>1</td>\n",
              "    </tr>\n",
              "    <tr>\n",
              "      <th>19</th>\n",
              "      <td>5008826</td>\n",
              "      <td>F</td>\n",
              "      <td>Y</td>\n",
              "      <td>N</td>\n",
              "      <td>0</td>\n",
              "      <td>130500.0</td>\n",
              "      <td>Working</td>\n",
              "      <td>Incomplete higher</td>\n",
              "      <td>Married</td>\n",
              "      <td>House / apartment</td>\n",
              "      <td>-10669</td>\n",
              "      <td>-1103</td>\n",
              "      <td>1</td>\n",
              "      <td>0</td>\n",
              "      <td>0</td>\n",
              "      <td>0</td>\n",
              "      <td>Accountants</td>\n",
              "      <td>2.0</td>\n",
              "      <td>1</td>\n",
              "    </tr>\n",
              "    <tr>\n",
              "      <th>20</th>\n",
              "      <td>5008830</td>\n",
              "      <td>F</td>\n",
              "      <td>N</td>\n",
              "      <td>Y</td>\n",
              "      <td>0</td>\n",
              "      <td>157500.0</td>\n",
              "      <td>Working</td>\n",
              "      <td>Secondary / secondary special</td>\n",
              "      <td>Married</td>\n",
              "      <td>House / apartment</td>\n",
              "      <td>-10031</td>\n",
              "      <td>-1469</td>\n",
              "      <td>1</td>\n",
              "      <td>0</td>\n",
              "      <td>1</td>\n",
              "      <td>0</td>\n",
              "      <td>Laborers</td>\n",
              "      <td>2.0</td>\n",
              "      <td>1</td>\n",
              "    </tr>\n",
              "    <tr>\n",
              "      <th>...</th>\n",
              "      <td>...</td>\n",
              "      <td>...</td>\n",
              "      <td>...</td>\n",
              "      <td>...</td>\n",
              "      <td>...</td>\n",
              "      <td>...</td>\n",
              "      <td>...</td>\n",
              "      <td>...</td>\n",
              "      <td>...</td>\n",
              "      <td>...</td>\n",
              "      <td>...</td>\n",
              "      <td>...</td>\n",
              "      <td>...</td>\n",
              "      <td>...</td>\n",
              "      <td>...</td>\n",
              "      <td>...</td>\n",
              "      <td>...</td>\n",
              "      <td>...</td>\n",
              "      <td>...</td>\n",
              "    </tr>\n",
              "    <tr>\n",
              "      <th>36452</th>\n",
              "      <td>5149828</td>\n",
              "      <td>M</td>\n",
              "      <td>Y</td>\n",
              "      <td>Y</td>\n",
              "      <td>0</td>\n",
              "      <td>315000.0</td>\n",
              "      <td>Working</td>\n",
              "      <td>Secondary / secondary special</td>\n",
              "      <td>Married</td>\n",
              "      <td>House / apartment</td>\n",
              "      <td>-17348</td>\n",
              "      <td>-2420</td>\n",
              "      <td>1</td>\n",
              "      <td>0</td>\n",
              "      <td>0</td>\n",
              "      <td>0</td>\n",
              "      <td>Managers</td>\n",
              "      <td>2.0</td>\n",
              "      <td>1</td>\n",
              "    </tr>\n",
              "    <tr>\n",
              "      <th>36453</th>\n",
              "      <td>5149834</td>\n",
              "      <td>F</td>\n",
              "      <td>N</td>\n",
              "      <td>Y</td>\n",
              "      <td>0</td>\n",
              "      <td>157500.0</td>\n",
              "      <td>Commercial associate</td>\n",
              "      <td>Higher education</td>\n",
              "      <td>Married</td>\n",
              "      <td>House / apartment</td>\n",
              "      <td>-12387</td>\n",
              "      <td>-1325</td>\n",
              "      <td>1</td>\n",
              "      <td>0</td>\n",
              "      <td>1</td>\n",
              "      <td>1</td>\n",
              "      <td>Medicine staff</td>\n",
              "      <td>2.0</td>\n",
              "      <td>1</td>\n",
              "    </tr>\n",
              "    <tr>\n",
              "      <th>36454</th>\n",
              "      <td>5149838</td>\n",
              "      <td>F</td>\n",
              "      <td>N</td>\n",
              "      <td>Y</td>\n",
              "      <td>0</td>\n",
              "      <td>157500.0</td>\n",
              "      <td>Pensioner</td>\n",
              "      <td>Higher education</td>\n",
              "      <td>Married</td>\n",
              "      <td>House / apartment</td>\n",
              "      <td>-12387</td>\n",
              "      <td>-1325</td>\n",
              "      <td>1</td>\n",
              "      <td>0</td>\n",
              "      <td>1</td>\n",
              "      <td>1</td>\n",
              "      <td>Medicine staff</td>\n",
              "      <td>2.0</td>\n",
              "      <td>1</td>\n",
              "    </tr>\n",
              "    <tr>\n",
              "      <th>36455</th>\n",
              "      <td>5150049</td>\n",
              "      <td>F</td>\n",
              "      <td>N</td>\n",
              "      <td>Y</td>\n",
              "      <td>0</td>\n",
              "      <td>283500.0</td>\n",
              "      <td>Working</td>\n",
              "      <td>Secondary / secondary special</td>\n",
              "      <td>Married</td>\n",
              "      <td>House / apartment</td>\n",
              "      <td>-17958</td>\n",
              "      <td>-655</td>\n",
              "      <td>1</td>\n",
              "      <td>0</td>\n",
              "      <td>0</td>\n",
              "      <td>0</td>\n",
              "      <td>Sales staff</td>\n",
              "      <td>2.0</td>\n",
              "      <td>1</td>\n",
              "    </tr>\n",
              "    <tr>\n",
              "      <th>36456</th>\n",
              "      <td>5150337</td>\n",
              "      <td>M</td>\n",
              "      <td>N</td>\n",
              "      <td>Y</td>\n",
              "      <td>0</td>\n",
              "      <td>112500.0</td>\n",
              "      <td>Working</td>\n",
              "      <td>Secondary / secondary special</td>\n",
              "      <td>Single / not married</td>\n",
              "      <td>Rented apartment</td>\n",
              "      <td>-9188</td>\n",
              "      <td>-1193</td>\n",
              "      <td>1</td>\n",
              "      <td>0</td>\n",
              "      <td>0</td>\n",
              "      <td>0</td>\n",
              "      <td>Laborers</td>\n",
              "      <td>1.0</td>\n",
              "      <td>1</td>\n",
              "    </tr>\n",
              "  </tbody>\n",
              "</table>\n",
              "<p>4291 rows × 19 columns</p>\n",
              "</div>"
            ],
            "text/plain": [
              "            ID CODE_GENDER  ... CNT_FAM_MEMBERS bad_client\n",
              "0      5008804           M  ...             2.0          1\n",
              "1      5008805           M  ...             2.0          1\n",
              "18     5008825           F  ...             2.0          1\n",
              "19     5008826           F  ...             2.0          1\n",
              "20     5008830           F  ...             2.0          1\n",
              "...        ...         ...  ...             ...        ...\n",
              "36452  5149828           M  ...             2.0          1\n",
              "36453  5149834           F  ...             2.0          1\n",
              "36454  5149838           F  ...             2.0          1\n",
              "36455  5150049           F  ...             2.0          1\n",
              "36456  5150337           M  ...             1.0          1\n",
              "\n",
              "[4291 rows x 19 columns]"
            ]
          },
          "metadata": {
            "tags": []
          },
          "execution_count": 21
        }
      ]
    },
    {
      "cell_type": "markdown",
      "metadata": {
        "id": "BLPEAFG0kzH2"
      },
      "source": [
        "Eliminamos la variable ID"
      ]
    },
    {
      "cell_type": "code",
      "metadata": {
        "id": "y37U3rEgk2Bh"
      },
      "source": [
        "df.drop(\"ID\", axis = 1, inplace = True)"
      ],
      "execution_count": null,
      "outputs": []
    },
    {
      "cell_type": "markdown",
      "metadata": {
        "id": "lxIlYjOufrnc"
      },
      "source": [
        "## Valores nulos"
      ]
    },
    {
      "cell_type": "code",
      "metadata": {
        "colab": {
          "base_uri": "https://localhost:8080/"
        },
        "id": "uRwoom0KfjzS",
        "outputId": "2da4bb06-877b-48c0-fe4f-b7bf0393afae"
      },
      "source": [
        "df.info()"
      ],
      "execution_count": null,
      "outputs": [
        {
          "output_type": "stream",
          "text": [
            "<class 'pandas.core.frame.DataFrame'>\n",
            "Int64Index: 36457 entries, 0 to 36456\n",
            "Data columns (total 18 columns):\n",
            " #   Column               Non-Null Count  Dtype  \n",
            "---  ------               --------------  -----  \n",
            " 0   CODE_GENDER          36457 non-null  object \n",
            " 1   FLAG_OWN_CAR         36457 non-null  object \n",
            " 2   FLAG_OWN_REALTY      36457 non-null  object \n",
            " 3   CNT_CHILDREN         36457 non-null  int64  \n",
            " 4   AMT_INCOME_TOTAL     36457 non-null  float64\n",
            " 5   NAME_INCOME_TYPE     36457 non-null  object \n",
            " 6   NAME_EDUCATION_TYPE  36457 non-null  object \n",
            " 7   NAME_FAMILY_STATUS   36457 non-null  object \n",
            " 8   NAME_HOUSING_TYPE    36457 non-null  object \n",
            " 9   DAYS_BIRTH           36457 non-null  int64  \n",
            " 10  DAYS_EMPLOYED        36457 non-null  int64  \n",
            " 11  FLAG_MOBIL           36457 non-null  int64  \n",
            " 12  FLAG_WORK_PHONE      36457 non-null  int64  \n",
            " 13  FLAG_PHONE           36457 non-null  int64  \n",
            " 14  FLAG_EMAIL           36457 non-null  int64  \n",
            " 15  OCCUPATION_TYPE      25134 non-null  object \n",
            " 16  CNT_FAM_MEMBERS      36457 non-null  float64\n",
            " 17  bad_client           36457 non-null  int64  \n",
            "dtypes: float64(2), int64(8), object(8)\n",
            "memory usage: 5.3+ MB\n"
          ],
          "name": "stdout"
        }
      ]
    },
    {
      "cell_type": "markdown",
      "metadata": {
        "id": "DpMdiumNf4GF"
      },
      "source": [
        "Vemos que la única variable con valores nulos es OCCUPATION_TYPE. Como es una variable interesante para ver posibles sesgos, primeramente eliminaremos todas las filas que tengan esta variable nula. En caso de que no tenga un impacto relevante en el modelo final se podrá reentrenar el modelo eliminando esta columna y añadiendo los valores eliminados"
      ]
    },
    {
      "cell_type": "code",
      "metadata": {
        "id": "oIBIoQEpijh5"
      },
      "source": [
        "df = df.dropna().reset_index()"
      ],
      "execution_count": null,
      "outputs": []
    },
    {
      "cell_type": "markdown",
      "metadata": {
        "id": "Ue652CAop3iW"
      },
      "source": [
        "## DAYS_BIRTH\tDAYS_EMPLOYED\n",
        "Cambio de días transcurridos a años transcurridos"
      ]
    },
    {
      "cell_type": "code",
      "metadata": {
        "id": "OI4MyVT1rKoa"
      },
      "source": [
        "from math import floor"
      ],
      "execution_count": null,
      "outputs": []
    },
    {
      "cell_type": "code",
      "metadata": {
        "colab": {
          "base_uri": "https://localhost:8080/"
        },
        "id": "obCKxdVLqufL",
        "outputId": "72d334d3-792a-4b7b-a6c1-505d09b38500"
      },
      "source": [
        "df[\"DAYS_BIRTH\"].map(lambda x: floor(-x/365))"
      ],
      "execution_count": null,
      "outputs": [
        {
          "output_type": "execute_result",
          "data": {
            "text/plain": [
              "0        58\n",
              "1        52\n",
              "2        52\n",
              "3        52\n",
              "4        52\n",
              "         ..\n",
              "25129    47\n",
              "25130    33\n",
              "25131    33\n",
              "25132    49\n",
              "25133    25\n",
              "Name: DAYS_BIRTH, Length: 25134, dtype: int64"
            ]
          },
          "metadata": {
            "tags": []
          },
          "execution_count": 26
        }
      ]
    },
    {
      "cell_type": "code",
      "metadata": {
        "id": "3UnQ2jH3kfWo"
      },
      "source": [
        "df[\"YEARS_BIRTH\"] = df[\"DAYS_BIRTH\"].map(lambda x: floor(-x/365))\n",
        "df[\"YEARS_EMPLOYED\"] = df[\"DAYS_EMPLOYED\"].map(lambda x: floor(-x/365))\n",
        "\n",
        "df.drop(labels = [\"DAYS_BIRTH\", \"DAYS_EMPLOYED\"], axis = 1,  inplace = True)"
      ],
      "execution_count": null,
      "outputs": []
    },
    {
      "cell_type": "code",
      "metadata": {
        "colab": {
          "base_uri": "https://localhost:8080/"
        },
        "id": "RlRX5v73rQbE",
        "outputId": "e3e056ad-5a58-4aff-f036-ddeff916d603"
      },
      "source": [
        "df.head()"
      ],
      "execution_count": null,
      "outputs": [
        {
          "output_type": "execute_result",
          "data": {
            "text/html": [
              "<div>\n",
              "<style scoped>\n",
              "    .dataframe tbody tr th:only-of-type {\n",
              "        vertical-align: middle;\n",
              "    }\n",
              "\n",
              "    .dataframe tbody tr th {\n",
              "        vertical-align: top;\n",
              "    }\n",
              "\n",
              "    .dataframe thead th {\n",
              "        text-align: right;\n",
              "    }\n",
              "</style>\n",
              "<table border=\"1\" class=\"dataframe\">\n",
              "  <thead>\n",
              "    <tr style=\"text-align: right;\">\n",
              "      <th></th>\n",
              "      <th>index</th>\n",
              "      <th>CODE_GENDER</th>\n",
              "      <th>FLAG_OWN_CAR</th>\n",
              "      <th>FLAG_OWN_REALTY</th>\n",
              "      <th>CNT_CHILDREN</th>\n",
              "      <th>AMT_INCOME_TOTAL</th>\n",
              "      <th>NAME_INCOME_TYPE</th>\n",
              "      <th>NAME_EDUCATION_TYPE</th>\n",
              "      <th>NAME_FAMILY_STATUS</th>\n",
              "      <th>NAME_HOUSING_TYPE</th>\n",
              "      <th>FLAG_MOBIL</th>\n",
              "      <th>FLAG_WORK_PHONE</th>\n",
              "      <th>FLAG_PHONE</th>\n",
              "      <th>FLAG_EMAIL</th>\n",
              "      <th>OCCUPATION_TYPE</th>\n",
              "      <th>CNT_FAM_MEMBERS</th>\n",
              "      <th>bad_client</th>\n",
              "      <th>YEARS_BIRTH</th>\n",
              "      <th>YEARS_EMPLOYED</th>\n",
              "    </tr>\n",
              "  </thead>\n",
              "  <tbody>\n",
              "    <tr>\n",
              "      <th>0</th>\n",
              "      <td>2</td>\n",
              "      <td>M</td>\n",
              "      <td>Y</td>\n",
              "      <td>Y</td>\n",
              "      <td>0</td>\n",
              "      <td>112500.0</td>\n",
              "      <td>Working</td>\n",
              "      <td>Secondary / secondary special</td>\n",
              "      <td>Married</td>\n",
              "      <td>House / apartment</td>\n",
              "      <td>1</td>\n",
              "      <td>0</td>\n",
              "      <td>0</td>\n",
              "      <td>0</td>\n",
              "      <td>Security staff</td>\n",
              "      <td>2.0</td>\n",
              "      <td>0</td>\n",
              "      <td>58</td>\n",
              "      <td>3</td>\n",
              "    </tr>\n",
              "    <tr>\n",
              "      <th>1</th>\n",
              "      <td>3</td>\n",
              "      <td>F</td>\n",
              "      <td>N</td>\n",
              "      <td>Y</td>\n",
              "      <td>0</td>\n",
              "      <td>270000.0</td>\n",
              "      <td>Commercial associate</td>\n",
              "      <td>Secondary / secondary special</td>\n",
              "      <td>Single / not married</td>\n",
              "      <td>House / apartment</td>\n",
              "      <td>1</td>\n",
              "      <td>0</td>\n",
              "      <td>1</td>\n",
              "      <td>1</td>\n",
              "      <td>Sales staff</td>\n",
              "      <td>1.0</td>\n",
              "      <td>0</td>\n",
              "      <td>52</td>\n",
              "      <td>8</td>\n",
              "    </tr>\n",
              "    <tr>\n",
              "      <th>2</th>\n",
              "      <td>4</td>\n",
              "      <td>F</td>\n",
              "      <td>N</td>\n",
              "      <td>Y</td>\n",
              "      <td>0</td>\n",
              "      <td>270000.0</td>\n",
              "      <td>Commercial associate</td>\n",
              "      <td>Secondary / secondary special</td>\n",
              "      <td>Single / not married</td>\n",
              "      <td>House / apartment</td>\n",
              "      <td>1</td>\n",
              "      <td>0</td>\n",
              "      <td>1</td>\n",
              "      <td>1</td>\n",
              "      <td>Sales staff</td>\n",
              "      <td>1.0</td>\n",
              "      <td>0</td>\n",
              "      <td>52</td>\n",
              "      <td>8</td>\n",
              "    </tr>\n",
              "    <tr>\n",
              "      <th>3</th>\n",
              "      <td>5</td>\n",
              "      <td>F</td>\n",
              "      <td>N</td>\n",
              "      <td>Y</td>\n",
              "      <td>0</td>\n",
              "      <td>270000.0</td>\n",
              "      <td>Commercial associate</td>\n",
              "      <td>Secondary / secondary special</td>\n",
              "      <td>Single / not married</td>\n",
              "      <td>House / apartment</td>\n",
              "      <td>1</td>\n",
              "      <td>0</td>\n",
              "      <td>1</td>\n",
              "      <td>1</td>\n",
              "      <td>Sales staff</td>\n",
              "      <td>1.0</td>\n",
              "      <td>0</td>\n",
              "      <td>52</td>\n",
              "      <td>8</td>\n",
              "    </tr>\n",
              "    <tr>\n",
              "      <th>4</th>\n",
              "      <td>6</td>\n",
              "      <td>F</td>\n",
              "      <td>N</td>\n",
              "      <td>Y</td>\n",
              "      <td>0</td>\n",
              "      <td>270000.0</td>\n",
              "      <td>Commercial associate</td>\n",
              "      <td>Secondary / secondary special</td>\n",
              "      <td>Single / not married</td>\n",
              "      <td>House / apartment</td>\n",
              "      <td>1</td>\n",
              "      <td>0</td>\n",
              "      <td>1</td>\n",
              "      <td>1</td>\n",
              "      <td>Sales staff</td>\n",
              "      <td>1.0</td>\n",
              "      <td>0</td>\n",
              "      <td>52</td>\n",
              "      <td>8</td>\n",
              "    </tr>\n",
              "  </tbody>\n",
              "</table>\n",
              "</div>"
            ],
            "text/plain": [
              "   index CODE_GENDER FLAG_OWN_CAR  ... bad_client  YEARS_BIRTH  YEARS_EMPLOYED\n",
              "0      2           M            Y  ...          0           58               3\n",
              "1      3           F            N  ...          0           52               8\n",
              "2      4           F            N  ...          0           52               8\n",
              "3      5           F            N  ...          0           52               8\n",
              "4      6           F            N  ...          0           52               8\n",
              "\n",
              "[5 rows x 19 columns]"
            ]
          },
          "metadata": {
            "tags": []
          },
          "execution_count": 28
        }
      ]
    },
    {
      "cell_type": "markdown",
      "metadata": {
        "id": "5F7fd3E7zB3s"
      },
      "source": [
        "## Codificación para el modelo"
      ]
    },
    {
      "cell_type": "markdown",
      "metadata": {
        "id": "k0wdVClOXrAe"
      },
      "source": [
        "Los datos no han sido codificados usando One Hot Encoding debido a que la explicabilidad es más sencilla si se codifica de manera ordinal. Independientemente, los resultados de la predicción no han mejorado notablemente utilizando One Hot"
      ]
    },
    {
      "cell_type": "code",
      "metadata": {
        "id": "cWPbnw75yvN-"
      },
      "source": [
        "df.head()\n",
        "\n",
        "df_cat = df.copy()\n",
        "\n",
        "dct_CODE_GENDER = {'M':1, 'F':0}\n",
        "dct_yes_no = {'Y':1,'N':0}\n",
        "dct_NAME_INCOME_TYPE = {'Working': 0, 'Commercial associate': 1, 'State servant': 2, 'Student': 3,'Pensioner': 4}\n",
        "dct_NAME_EDUCATION_TYPE = {'Secondary / secondary special': 0, 'Higher education':1,'Incomplete higher':2, 'Lower secondary':3, 'Academic degree':4}\n",
        "dct_NAME_FAMILY_STATUS = {'Married':0, 'Single / not married':1, 'Civil marriage':2, 'Separated':3,'Widow':4}\n",
        "dct_NAME_HOUSING_TYPE = {'House / apartment':0, 'Rented apartment':1, 'Municipal apartment':2,'With parents':3, 'Co-op apartment':4, 'Office apartment':5}\n",
        "dct_OCCUPATION_TYPE = {'Security staff':0, 'Sales staff':1, 'Accountants':2, 'Laborers':3,'Managers':4, 'Drivers':5, 'Core staff':6, 'High skill tech staff':7,'Cleaning staff':8, 'Private service staff':9, 'Cooking staff':10,'Low-skill Laborers':11, 'Medicine staff':12, 'Secretaries':13,'Waiters/barmen staff':14, 'HR staff':15, 'Realty agents':16, 'IT staff':17}\n",
        "\n",
        "df_cat['CODE_GENDER'] = df_cat['CODE_GENDER'].map(dct_CODE_GENDER)\n",
        "df_cat['FLAG_OWN_CAR'] = df_cat['FLAG_OWN_CAR'].map(dct_yes_no)\n",
        "df_cat['FLAG_OWN_REALTY'] = df_cat['FLAG_OWN_REALTY'].map(dct_yes_no)\n",
        "df_cat['NAME_INCOME_TYPE'] = df_cat['NAME_INCOME_TYPE'].map(dct_NAME_INCOME_TYPE)\n",
        "df_cat['NAME_EDUCATION_TYPE'] = df_cat['NAME_EDUCATION_TYPE'].map(dct_NAME_EDUCATION_TYPE)\n",
        "df_cat['NAME_FAMILY_STATUS'] = df_cat['NAME_FAMILY_STATUS'].map(dct_NAME_FAMILY_STATUS)\n",
        "df_cat['NAME_HOUSING_TYPE'] = df_cat['NAME_HOUSING_TYPE'].map(dct_NAME_HOUSING_TYPE)\n",
        "df_cat['OCCUPATION_TYPE'] = df_cat['OCCUPATION_TYPE'].map(dct_OCCUPATION_TYPE)"
      ],
      "execution_count": null,
      "outputs": []
    },
    {
      "cell_type": "code",
      "metadata": {
        "colab": {
          "base_uri": "https://localhost:8080/"
        },
        "id": "wJfCChTSyyLz",
        "outputId": "05508d04-2143-410d-eab3-74efca4bf43a"
      },
      "source": [
        "df_cat.head()"
      ],
      "execution_count": null,
      "outputs": [
        {
          "output_type": "execute_result",
          "data": {
            "text/html": [
              "<div>\n",
              "<style scoped>\n",
              "    .dataframe tbody tr th:only-of-type {\n",
              "        vertical-align: middle;\n",
              "    }\n",
              "\n",
              "    .dataframe tbody tr th {\n",
              "        vertical-align: top;\n",
              "    }\n",
              "\n",
              "    .dataframe thead th {\n",
              "        text-align: right;\n",
              "    }\n",
              "</style>\n",
              "<table border=\"1\" class=\"dataframe\">\n",
              "  <thead>\n",
              "    <tr style=\"text-align: right;\">\n",
              "      <th></th>\n",
              "      <th>index</th>\n",
              "      <th>CODE_GENDER</th>\n",
              "      <th>FLAG_OWN_CAR</th>\n",
              "      <th>FLAG_OWN_REALTY</th>\n",
              "      <th>CNT_CHILDREN</th>\n",
              "      <th>AMT_INCOME_TOTAL</th>\n",
              "      <th>NAME_INCOME_TYPE</th>\n",
              "      <th>NAME_EDUCATION_TYPE</th>\n",
              "      <th>NAME_FAMILY_STATUS</th>\n",
              "      <th>NAME_HOUSING_TYPE</th>\n",
              "      <th>FLAG_MOBIL</th>\n",
              "      <th>FLAG_WORK_PHONE</th>\n",
              "      <th>FLAG_PHONE</th>\n",
              "      <th>FLAG_EMAIL</th>\n",
              "      <th>OCCUPATION_TYPE</th>\n",
              "      <th>CNT_FAM_MEMBERS</th>\n",
              "      <th>bad_client</th>\n",
              "      <th>YEARS_BIRTH</th>\n",
              "      <th>YEARS_EMPLOYED</th>\n",
              "    </tr>\n",
              "  </thead>\n",
              "  <tbody>\n",
              "    <tr>\n",
              "      <th>0</th>\n",
              "      <td>2</td>\n",
              "      <td>1</td>\n",
              "      <td>1</td>\n",
              "      <td>1</td>\n",
              "      <td>0</td>\n",
              "      <td>112500.0</td>\n",
              "      <td>0</td>\n",
              "      <td>0</td>\n",
              "      <td>0</td>\n",
              "      <td>0</td>\n",
              "      <td>1</td>\n",
              "      <td>0</td>\n",
              "      <td>0</td>\n",
              "      <td>0</td>\n",
              "      <td>0</td>\n",
              "      <td>2.0</td>\n",
              "      <td>0</td>\n",
              "      <td>58</td>\n",
              "      <td>3</td>\n",
              "    </tr>\n",
              "    <tr>\n",
              "      <th>1</th>\n",
              "      <td>3</td>\n",
              "      <td>0</td>\n",
              "      <td>0</td>\n",
              "      <td>1</td>\n",
              "      <td>0</td>\n",
              "      <td>270000.0</td>\n",
              "      <td>1</td>\n",
              "      <td>0</td>\n",
              "      <td>1</td>\n",
              "      <td>0</td>\n",
              "      <td>1</td>\n",
              "      <td>0</td>\n",
              "      <td>1</td>\n",
              "      <td>1</td>\n",
              "      <td>1</td>\n",
              "      <td>1.0</td>\n",
              "      <td>0</td>\n",
              "      <td>52</td>\n",
              "      <td>8</td>\n",
              "    </tr>\n",
              "    <tr>\n",
              "      <th>2</th>\n",
              "      <td>4</td>\n",
              "      <td>0</td>\n",
              "      <td>0</td>\n",
              "      <td>1</td>\n",
              "      <td>0</td>\n",
              "      <td>270000.0</td>\n",
              "      <td>1</td>\n",
              "      <td>0</td>\n",
              "      <td>1</td>\n",
              "      <td>0</td>\n",
              "      <td>1</td>\n",
              "      <td>0</td>\n",
              "      <td>1</td>\n",
              "      <td>1</td>\n",
              "      <td>1</td>\n",
              "      <td>1.0</td>\n",
              "      <td>0</td>\n",
              "      <td>52</td>\n",
              "      <td>8</td>\n",
              "    </tr>\n",
              "    <tr>\n",
              "      <th>3</th>\n",
              "      <td>5</td>\n",
              "      <td>0</td>\n",
              "      <td>0</td>\n",
              "      <td>1</td>\n",
              "      <td>0</td>\n",
              "      <td>270000.0</td>\n",
              "      <td>1</td>\n",
              "      <td>0</td>\n",
              "      <td>1</td>\n",
              "      <td>0</td>\n",
              "      <td>1</td>\n",
              "      <td>0</td>\n",
              "      <td>1</td>\n",
              "      <td>1</td>\n",
              "      <td>1</td>\n",
              "      <td>1.0</td>\n",
              "      <td>0</td>\n",
              "      <td>52</td>\n",
              "      <td>8</td>\n",
              "    </tr>\n",
              "    <tr>\n",
              "      <th>4</th>\n",
              "      <td>6</td>\n",
              "      <td>0</td>\n",
              "      <td>0</td>\n",
              "      <td>1</td>\n",
              "      <td>0</td>\n",
              "      <td>270000.0</td>\n",
              "      <td>1</td>\n",
              "      <td>0</td>\n",
              "      <td>1</td>\n",
              "      <td>0</td>\n",
              "      <td>1</td>\n",
              "      <td>0</td>\n",
              "      <td>1</td>\n",
              "      <td>1</td>\n",
              "      <td>1</td>\n",
              "      <td>1.0</td>\n",
              "      <td>0</td>\n",
              "      <td>52</td>\n",
              "      <td>8</td>\n",
              "    </tr>\n",
              "  </tbody>\n",
              "</table>\n",
              "</div>"
            ],
            "text/plain": [
              "   index  CODE_GENDER  FLAG_OWN_CAR  ...  bad_client  YEARS_BIRTH  YEARS_EMPLOYED\n",
              "0      2            1             1  ...           0           58               3\n",
              "1      3            0             0  ...           0           52               8\n",
              "2      4            0             0  ...           0           52               8\n",
              "3      5            0             0  ...           0           52               8\n",
              "4      6            0             0  ...           0           52               8\n",
              "\n",
              "[5 rows x 19 columns]"
            ]
          },
          "metadata": {
            "tags": []
          },
          "execution_count": 30
        }
      ]
    },
    {
      "cell_type": "code",
      "metadata": {
        "id": "4k6ZzAfM_unP"
      },
      "source": [
        "df_cat.drop(\"FLAG_MOBIL\", axis = 1, inplace = True) #Observamos que todos los valores son 1\n",
        "df_cat.drop(\"index\", axis = 1, inplace = True) #Observamos que todos los valores son 1"
      ],
      "execution_count": null,
      "outputs": []
    },
    {
      "cell_type": "code",
      "metadata": {
        "colab": {
          "base_uri": "https://localhost:8080/"
        },
        "id": "_lLyGqJE0EpV",
        "outputId": "6ebf4e2d-d6a9-4aa4-dc18-edf89069438e"
      },
      "source": [
        "df_cat.shape"
      ],
      "execution_count": null,
      "outputs": [
        {
          "output_type": "execute_result",
          "data": {
            "text/plain": [
              "(25134, 17)"
            ]
          },
          "metadata": {
            "tags": []
          },
          "execution_count": 32
        }
      ]
    },
    {
      "cell_type": "markdown",
      "metadata": {
        "id": "QFk2lkX2au1U"
      },
      "source": [
        "## Train Test split"
      ]
    },
    {
      "cell_type": "code",
      "metadata": {
        "id": "CKeCigzpa2jX"
      },
      "source": [
        "##from imblearn.over_sampling import SMOTE\n",
        "from sklearn.model_selection import train_test_split\n",
        "\n",
        "X = df_cat.copy()\n",
        "y = X.pop(\"bad_client\")\n",
        "\n",
        "\n",
        "\n",
        "X_train, X_test, y_train, y_test = train_test_split(X,y, \n",
        "                                                     test_size=0.2,\n",
        "                                                    random_state = 186)\n",
        "\n",
        "\n",
        "\n"
      ],
      "execution_count": null,
      "outputs": []
    },
    {
      "cell_type": "markdown",
      "metadata": {
        "id": "bX7zNjnXzEh8"
      },
      "source": [
        "# Modelo:  XGBoost (tree based model)"
      ]
    },
    {
      "cell_type": "code",
      "metadata": {
        "id": "NVsl9gqj0aHJ"
      },
      "source": [
        "from sklearn.model_selection import  RandomizedSearchCV \n",
        "from sklearn.metrics import confusion_matrix\n",
        "from time import time\n",
        "from xgboost import XGBClassifier,plot_importance\n",
        "import matplotlib.pylab as plb\n"
      ],
      "execution_count": null,
      "outputs": []
    },
    {
      "cell_type": "markdown",
      "metadata": {
        "id": "oftblhSl4A5Q"
      },
      "source": [
        "## Training"
      ]
    },
    {
      "cell_type": "markdown",
      "metadata": {
        "id": "j1GlXx43InHq"
      },
      "source": [
        "---"
      ]
    },
    {
      "cell_type": "code",
      "metadata": {
        "id": "Z3xdvjFunwZ9"
      },
      "source": [
        "if xgb:\n",
        "  shap.initjs()\n",
        "\n",
        "  model_xgb = XGBClassifier(max_depth= 8,\n",
        "                      n_estimators=600, #Para mejor resultados con 2000 pero incrementa mucho el coste computacional\n",
        "                      min_child_weight=8, \n",
        "                      subsample=0.8, \n",
        "                      learning_rate =0.035,    \n",
        "                      seed=7429,\n",
        "                      scale_pos_weight=len(y_train[y_train == 0])/len(y_train[y_train == 1]),\n",
        "                      predictor='gpu_predictor')\n",
        "    \n",
        "  model_xgb.fit(X_train, y_train)\n",
        "\n",
        "  pred = model_xgb.predict(X_test)\n",
        "\n",
        "  plot_confusion_matrix(y_test.to_numpy(),pred) \n",
        "\n",
        "  #Dependiendo de la cantadidad de árboles usado en nuestro modelo puede tardar una cantidad de tiempo elevada\n",
        "  explainer_xgboost = shap.TreeExplainer(model_xgb)\n",
        "  shap_values_xgboost = explainer_xgboost.shap_values(X)\n",
        "\n",
        "  #SHAP plots\n",
        "  force_plot_func(X,explainer_xgboost.expected_value,shap_values_xgboost,3,113)\n",
        "\n",
        "  shap.force_plot(explainer_xgboost.expected_value, shap_values_xgboost[:2000,:], X.iloc[:2000,:])\n",
        "\n",
        "  shap.summary_plot(shap_values_xgboost, X, plot_type=\"bar\")\n",
        "\n",
        "  shap.summary_plot(shap_values_xgboost, X)\n",
        "\n",
        "  for name in X_train.columns:\n",
        "    shap.dependence_plot(name, shap_values_xgboost, X, display_features=X)\n",
        "\n",
        "  print_variable_impact(shap_values_xgboost,X,cols_impact)\n"
      ],
      "execution_count": null,
      "outputs": []
    },
    {
      "cell_type": "markdown",
      "metadata": {
        "id": "hqBlfoktARgR"
      },
      "source": [
        "# Modelo: Decision Tree (Transparente)"
      ]
    },
    {
      "cell_type": "code",
      "metadata": {
        "id": "Jq5at1wVVAVn"
      },
      "source": [
        "from sklearn.tree import DecisionTreeClassifier"
      ],
      "execution_count": null,
      "outputs": []
    },
    {
      "cell_type": "code",
      "metadata": {
        "id": "b1Ey1w_iXws9"
      },
      "source": [
        "if dt:\n",
        "  shap.initjs()\n",
        "\n",
        "  tree_model = DecisionTreeClassifier()\n",
        "\n",
        "  tree_model.fit(X_train,y_train)\n",
        "\n",
        "  predict = tree_model.predict(X_test)\n",
        "\n",
        "  plot_confusion_matrix(y_test.to_numpy(),predict)\n",
        "\n",
        "  #Calculate shapley values\n",
        "  tree_explainer = shap.TreeExplainer(tree_model)\n",
        "  shap_values_tree_both = tree_explainer.shap_values(X)\n",
        "  shap_values_tree = []\n",
        "  for i,val in enumerate(tree_model.predict(X)):\n",
        "    shap_values_tree.append(shap_values_tree_both[val][i])\n",
        "\n",
        "  #Plot for one prediction\n",
        "  shap.force_plot(tree_explainer.expected_value[0], shap_values_tree[299], X.iloc[299,:])"
      ],
      "execution_count": null,
      "outputs": []
    },
    {
      "cell_type": "markdown",
      "metadata": {
        "id": "i7mER5gFAb7Q"
      },
      "source": [
        "# Modelo: Multi Layer Perceptron"
      ]
    },
    {
      "cell_type": "code",
      "metadata": {
        "id": "MubIq6QfA9bG"
      },
      "source": [
        "if mlp:\n",
        "  import tensorflow as tf\n",
        "  !pip install tensorflow-addons\n",
        "  import tensorflow_addons as tfa\n",
        "  from sklearn.model_selection import KFold\n",
        "  from tensorflow.keras.callbacks import ReduceLROnPlateau, ModelCheckpoint, EarlyStopping\n",
        "  from keras import metrics as mtr"
      ],
      "execution_count": null,
      "outputs": []
    },
    {
      "cell_type": "code",
      "metadata": {
        "id": "ZJoZ1HZLbh5i"
      },
      "source": [
        "if mlp:\n",
        "  def create_mlp(input_size,hidden_units,dropout_rate,learning_rate):\n",
        "    \"\"\"\n",
        "    Crea un modelo Multilayer Perceptron\n",
        "\n",
        "    Parameters:\n",
        "\n",
        "    input_size (int): tamaño de la capa de entrada\n",
        "    hidden_units (int[]): array que contiene el número de neuronas por capa oculta, a más elementos más capas ocultas\n",
        "    dropout_rate (float): ratio de dropout\n",
        "    learning_rate (float): ratio de aprendizaje\n",
        "\n",
        "    \"\"\"\n",
        "    #Input\n",
        "    inp = tf.keras.layers.Input(shape = (input_size,))\n",
        "    x = tf.keras.layers.BatchNormalization()(inp)\n",
        "\n",
        "    for units in hidden_units:\n",
        "      x =  tfa.layers.WeightNormalization(tf.keras.layers.Dense(units,activation = 'relu'))(x)\n",
        "      x = tf.keras.layers.Dropout(dropout_rate)(x)\n",
        "      x = tf.keras.layers.BatchNormalization()(x)\n",
        "\n",
        "    out = tfa.layers.WeightNormalization(tf.keras.layers.Dense(1, activation = 'sigmoid'))(x)\n",
        "\n",
        "    model = tf.keras.models.Model(inputs = inp, outputs = out)\n",
        "\n",
        "    model.compile(optimizer = tfa.optimizers.Lookahead(tf.optimizers.Adam(learning_rate), sync_period = 10),\n",
        "                  loss = \"binary_crossentropy\")\n",
        "    \n",
        "    return model"
      ],
      "execution_count": null,
      "outputs": []
    },
    {
      "cell_type": "markdown",
      "metadata": {
        "id": "Wu-wPnJiijIV"
      },
      "source": [
        "## Training"
      ]
    },
    {
      "cell_type": "markdown",
      "metadata": {
        "id": "BDmUOor9itft"
      },
      "source": [
        "### Entrenamiento"
      ]
    },
    {
      "cell_type": "code",
      "metadata": {
        "id": "E-Y5oBD9ipl6"
      },
      "source": [
        "if mlp:\n",
        "\n",
        "  #Validation data\n",
        "\n",
        "  X_tr,X_val,y_tr,y_val = train_test_split(X_train, y_train, test_size = 0.25)\n",
        "\n",
        "  hidden_units = [1024*2,1024*2]\n",
        "  dropout_rate = 0.4\n",
        "  learning_rate = 0.0022\n",
        "  size = len(X_train.columns)\n",
        "\n",
        "  weights = {0:1,1:len(y_train[y_train == 0])/len(y_train[y_train == 1])-2.25}\n",
        "\n",
        "\n",
        "  start_time = time()\n",
        "\n",
        "  #Model creation\n",
        "  model = create_mlp(size, hidden_units, dropout_rate, learning_rate)\n",
        "\n",
        "  #Model fit\n",
        "  history = model.fit(X_tr, y_tr, \n",
        "                      validation_data = (X_val, y_val), \n",
        "                      epochs = 250, \n",
        "                      batch_size = 64, \n",
        "                      verbose = 1,\n",
        "                      class_weight = weights)\n",
        "\n",
        "  hist = pd.DataFrame(history.history)\n",
        "\n",
        "  predict = np.around(model.predict(X_test))\n",
        "\n",
        "  plot_confusion_matrix(y_test.to_numpy(),predict)\n",
        "\n"
      ],
      "execution_count": null,
      "outputs": []
    },
    {
      "cell_type": "markdown",
      "metadata": {
        "id": "fwDm_hoCRsDe"
      },
      "source": [
        "## One prediction explain"
      ]
    },
    {
      "cell_type": "code",
      "metadata": {
        "id": "Co-mTLE7Zm-m"
      },
      "source": [
        "if mlp:\n",
        "\n",
        "  shap.initjs()\n",
        "  explainer_mlp = shap.KernelExplainer(model,shap.sample(X, 5,random_state=2233))\n",
        "  shap_values_mlp = explainer_mlp.shap_values(X, nsamples=500)\n",
        "\n",
        "  shap.force_plot(explainer_mlp.expected_value, shap_values_mlp[0][9], X.iloc[9,:])"
      ],
      "execution_count": null,
      "outputs": []
    },
    {
      "cell_type": "markdown",
      "metadata": {
        "id": "RtvYN4IcRuon"
      },
      "source": [
        "## Multiple prediction explain"
      ]
    },
    {
      "cell_type": "code",
      "metadata": {
        "id": "RN4VXkrELBDu"
      },
      "source": [
        "if mlp:\n",
        "\n",
        "  shap.initjs()\n",
        "  shap_values50 = explainer_mlp.shap_values(X.iloc[280:330,:], nsamples=500)\n",
        "  shap.force_plot(explainer_mlp.expected_value, shap_values50[0], X.iloc[280:330,:])"
      ],
      "execution_count": null,
      "outputs": []
    },
    {
      "cell_type": "markdown",
      "metadata": {
        "id": "B0gr9L31A_6Z"
      },
      "source": [
        "# Modelo KNN"
      ]
    },
    {
      "cell_type": "code",
      "metadata": {
        "id": "5Ko36iTMBFcA"
      },
      "source": [
        "if knn:\n",
        "  from sklearn.neighbors import KNeighborsClassifier\n",
        "  from imblearn.over_sampling import SMOTE\n",
        "  from collections import Counter"
      ],
      "execution_count": null,
      "outputs": []
    },
    {
      "cell_type": "code",
      "metadata": {
        "id": "_KtKHzEgJFve"
      },
      "source": [
        "if knn:\n",
        "\n",
        "  oversample = SMOTE(ratio= 'not majority')\n",
        "  X_ts, y_ts = oversample.fit_resample(X_train, y_train)\n",
        "\n",
        "  knn_classifier = KNeighborsClassifier(n_neighbors=3)\n",
        "\n",
        "  knn_classifier.fit(X_ts, y_ts)\n",
        "\n",
        "  pred_knn = knn_classifier.predict(X_test)\n",
        "  plot_confusion_matrix(y_test.to_numpy(),pred_knn)\n",
        "\n",
        "  explainer_knn = shap.KernelExplainer(knn_classifier.predict,shap.sample(X, 5,random_state=2233))\n",
        "  shap_values_knn = explainer_knn.shap_values(X, nsamples = 750)"
      ],
      "execution_count": null,
      "outputs": []
    },
    {
      "cell_type": "markdown",
      "metadata": {
        "id": "WedhQi2fBDJn"
      },
      "source": [
        "# Modelo Random forest"
      ]
    },
    {
      "cell_type": "code",
      "metadata": {
        "id": "8eft-vIfdbq7"
      },
      "source": [
        "if rf:\n",
        "  from sklearn.ensemble import RandomForestClassifier"
      ],
      "execution_count": null,
      "outputs": []
    },
    {
      "cell_type": "code",
      "metadata": {
        "colab": {
          "base_uri": "https://localhost:8080/",
          "height": 269
        },
        "id": "VCuoIY6Xdlqf",
        "outputId": "9018b057-b606-4941-9423-770bac64a80d"
      },
      "source": [
        "if rf:\n",
        "  rf_classifier = RandomForestClassifier(class_weight='balanced')\n",
        "\n",
        "  rf_classifier.fit(X_train, y_train)\n",
        "\n",
        "  pred_rf = rf_classifier.predict(X_test)\n",
        "  plot_confusion_matrix(y_test.to_numpy(),pred_rf)\n",
        "\n",
        "  explainer_rf = shap.TreeExplainer(rf_classifier)\n",
        "  shap_values_rf_both = explainer_rf.shap_values(X)\n",
        "\n",
        "  shap_values_rf = []\n",
        "  for i,val in enumerate(rf_classifier.predict(X)):\n",
        "    shap_values_rf.append(shap_values_rf_both[val][i])"
      ],
      "execution_count": null,
      "outputs": [
        {
          "output_type": "display_data",
          "data": {
            "image/png": "[encoded data removed]",
            "text/plain": [
              "<Figure size 432x288 with 1 Axes>"
            ]
          },
          "metadata": {
            "tags": [],
            "needs_background": "light"
          }
        }
      ]
    },
    {
      "cell_type": "code",
      "metadata": {
        "id": "u_aarHlvSY9k"
      },
      "source": [
        "shap_values_rf_a = []\n",
        "for i,val in enumerate(Rf_classifier.predict(X)):\n",
        "  shap_values_rf_a.append(shap_values_rf[val][i])"
      ],
      "execution_count": null,
      "outputs": []
    },
    {
      "cell_type": "markdown",
      "metadata": {
        "id": "Zb3_LGnaZg_i"
      },
      "source": [
        "# Descarga de los resultados"
      ]
    },
    {
      "cell_type": "code",
      "metadata": {
        "id": "Fd7gegOJUf0A"
      },
      "source": [
        "all_values_names = []\n",
        "for col,feature in enumerate(cols_impact):\n",
        "  for unique in X[feature].unique():\n",
        "    all_values_names.append(\"{}_{}\".format(feature,unique))\n",
        "\n",
        "all_values_names.append(\"MODEL\")"
      ],
      "execution_count": null,
      "outputs": []
    },
    {
      "cell_type": "code",
      "metadata": {
        "colab": {
          "base_uri": "https://localhost:8080/",
          "height": 337
        },
        "id": "zmaiM2iRaFgn",
        "outputId": "526a51a0-2d7e-4757-e37a-b24e12c3339c"
      },
      "source": [
        "if download_csv or send_telegram:\n",
        "  #Dataset of mean shapvalues for model\n",
        "  send_models = []\n",
        "\n",
        "  if xgb:\n",
        "    shap_mean_xgboost = np.append(variable_impact(shap_values_xgboost, X, cols_impact),\"xgboost\")\n",
        "    send_models.append(shap_mean_xgboost)\n",
        "  if dt:\n",
        "    shap_mean_dt = np.append(variable_impact(shap_values_tree, X, cols_impact),\"DT\")\n",
        "    send_models.append(shap_mean_dt)\n",
        "  if mlp:\n",
        "    shap_mean_mlp = np.append(variable_impact(shap_values_mlp[0], X, cols_impact),\"MLP\")\n",
        "    send_models.append(shap_mean_mlp)\n",
        "  if knn:\n",
        "    shap_mean_knn = np.append(variable_impact(shap_values_knn, X, cols_impact),\"KNN\")\n",
        "    send_models.append(shap_mean_knn)\n",
        "  if rf:\n",
        "    shap_mean_rf = np.append(variable_impact(shap_values_rf, X, cols_impact),\"RF\")\n",
        "    send_models.append(shap_mean_rf)\n",
        "\n",
        "  send_dataset = pd.DataFrame(data= send_models,columns = all_values_names)\n",
        "\n",
        "  #Dataset of shap values of every model\n",
        "  if xgb:\n",
        "    shap_values_xgboost_df = pd.DataFrame(shap_values_xgboost, columns =X.columns)\n",
        "  if dt:\n",
        "    shap_values_tree_df = pd.DataFrame(shap_values_tree, columns =X.columns)\n",
        "  if mlp:\n",
        "    shap_values_mlp_df = pd.DataFrame(shap_values_mlp[0], columns =X.columns)\n",
        "  if knn:\n",
        "    shap_values_knn_df = pd.DataFrame(shap_values_knn, columns = X.columns)\n",
        "  if rf:\n",
        "    shap_values_rf_df = pd.DataFrame(shap_values_rf, columns = X.columns)"
      ],
      "execution_count": null,
      "outputs": [
        {
          "output_type": "error",
          "ename": "ValueError",
          "evalue": "ignored",
          "traceback": [
            "\u001b[0;31m---------------------------------------------------------------------------\u001b[0m",
            "\u001b[0;31mValueError\u001b[0m                                Traceback (most recent call last)",
            "\u001b[0;32m<ipython-input-106-958b71476497>\u001b[0m in \u001b[0;36m<module>\u001b[0;34m()\u001b[0m\n\u001b[1;32m     32\u001b[0m     \u001b[0mshap_values_knn_df\u001b[0m \u001b[0;34m=\u001b[0m \u001b[0mpd\u001b[0m\u001b[0;34m.\u001b[0m\u001b[0mDataFrame\u001b[0m\u001b[0;34m(\u001b[0m\u001b[0mshap_values_knn\u001b[0m\u001b[0;34m,\u001b[0m \u001b[0mcolumns\u001b[0m \u001b[0;34m=\u001b[0m \u001b[0mX\u001b[0m\u001b[0;34m.\u001b[0m\u001b[0mcolumns\u001b[0m\u001b[0;34m)\u001b[0m\u001b[0;34m\u001b[0m\u001b[0;34m\u001b[0m\u001b[0m\n\u001b[1;32m     33\u001b[0m   \u001b[0;32mif\u001b[0m \u001b[0mrf\u001b[0m\u001b[0;34m:\u001b[0m\u001b[0;34m\u001b[0m\u001b[0;34m\u001b[0m\u001b[0m\n\u001b[0;32m---> 34\u001b[0;31m     \u001b[0mshap_values_rf_df\u001b[0m \u001b[0;34m=\u001b[0m \u001b[0mpd\u001b[0m\u001b[0;34m.\u001b[0m\u001b[0mDataFrame\u001b[0m\u001b[0;34m(\u001b[0m\u001b[0mshap_values_rf\u001b[0m\u001b[0;34m,\u001b[0m \u001b[0mcolumns\u001b[0m \u001b[0;34m=\u001b[0m \u001b[0mX\u001b[0m\u001b[0;34m.\u001b[0m\u001b[0mcolumns\u001b[0m\u001b[0;34m)\u001b[0m\u001b[0;34m\u001b[0m\u001b[0;34m\u001b[0m\u001b[0m\n\u001b[0m",
            "\u001b[0;32m/usr/local/lib/python3.7/dist-packages/pandas/core/frame.py\u001b[0m in \u001b[0;36m__init__\u001b[0;34m(self, data, index, columns, dtype, copy)\u001b[0m\n\u001b[1;32m    521\u001b[0m                     \u001b[0mmgr\u001b[0m \u001b[0;34m=\u001b[0m \u001b[0marrays_to_mgr\u001b[0m\u001b[0;34m(\u001b[0m\u001b[0marrays\u001b[0m\u001b[0;34m,\u001b[0m \u001b[0mcolumns\u001b[0m\u001b[0;34m,\u001b[0m \u001b[0mindex\u001b[0m\u001b[0;34m,\u001b[0m \u001b[0mcolumns\u001b[0m\u001b[0;34m,\u001b[0m \u001b[0mdtype\u001b[0m\u001b[0;34m=\u001b[0m\u001b[0mdtype\u001b[0m\u001b[0;34m)\u001b[0m\u001b[0;34m\u001b[0m\u001b[0;34m\u001b[0m\u001b[0m\n\u001b[1;32m    522\u001b[0m                 \u001b[0;32melse\u001b[0m\u001b[0;34m:\u001b[0m\u001b[0;34m\u001b[0m\u001b[0;34m\u001b[0m\u001b[0m\n\u001b[0;32m--> 523\u001b[0;31m                     \u001b[0mmgr\u001b[0m \u001b[0;34m=\u001b[0m \u001b[0minit_ndarray\u001b[0m\u001b[0;34m(\u001b[0m\u001b[0mdata\u001b[0m\u001b[0;34m,\u001b[0m \u001b[0mindex\u001b[0m\u001b[0;34m,\u001b[0m \u001b[0mcolumns\u001b[0m\u001b[0;34m,\u001b[0m \u001b[0mdtype\u001b[0m\u001b[0;34m=\u001b[0m\u001b[0mdtype\u001b[0m\u001b[0;34m,\u001b[0m \u001b[0mcopy\u001b[0m\u001b[0;34m=\u001b[0m\u001b[0mcopy\u001b[0m\u001b[0;34m)\u001b[0m\u001b[0;34m\u001b[0m\u001b[0;34m\u001b[0m\u001b[0m\n\u001b[0m\u001b[1;32m    524\u001b[0m             \u001b[0;32melse\u001b[0m\u001b[0;34m:\u001b[0m\u001b[0;34m\u001b[0m\u001b[0;34m\u001b[0m\u001b[0m\n\u001b[1;32m    525\u001b[0m                 \u001b[0mmgr\u001b[0m \u001b[0;34m=\u001b[0m \u001b[0minit_dict\u001b[0m\u001b[0;34m(\u001b[0m\u001b[0;34m{\u001b[0m\u001b[0;34m}\u001b[0m\u001b[0;34m,\u001b[0m \u001b[0mindex\u001b[0m\u001b[0;34m,\u001b[0m \u001b[0mcolumns\u001b[0m\u001b[0;34m,\u001b[0m \u001b[0mdtype\u001b[0m\u001b[0;34m=\u001b[0m\u001b[0mdtype\u001b[0m\u001b[0;34m)\u001b[0m\u001b[0;34m\u001b[0m\u001b[0;34m\u001b[0m\u001b[0m\n",
            "\u001b[0;32m/usr/local/lib/python3.7/dist-packages/pandas/core/internals/construction.py\u001b[0m in \u001b[0;36minit_ndarray\u001b[0;34m(values, index, columns, dtype, copy)\u001b[0m\n\u001b[1;32m    188\u001b[0m     \u001b[0;31m# by definition an array here\u001b[0m\u001b[0;34m\u001b[0m\u001b[0;34m\u001b[0m\u001b[0;34m\u001b[0m\u001b[0m\n\u001b[1;32m    189\u001b[0m     \u001b[0;31m# the dtypes will be coerced to a single dtype\u001b[0m\u001b[0;34m\u001b[0m\u001b[0;34m\u001b[0m\u001b[0;34m\u001b[0m\u001b[0m\n\u001b[0;32m--> 190\u001b[0;31m     \u001b[0mvalues\u001b[0m \u001b[0;34m=\u001b[0m \u001b[0m_prep_ndarray\u001b[0m\u001b[0;34m(\u001b[0m\u001b[0mvalues\u001b[0m\u001b[0;34m,\u001b[0m \u001b[0mcopy\u001b[0m\u001b[0;34m=\u001b[0m\u001b[0mcopy\u001b[0m\u001b[0;34m)\u001b[0m\u001b[0;34m\u001b[0m\u001b[0;34m\u001b[0m\u001b[0m\n\u001b[0m\u001b[1;32m    191\u001b[0m \u001b[0;34m\u001b[0m\u001b[0m\n\u001b[1;32m    192\u001b[0m     \u001b[0;32mif\u001b[0m \u001b[0mdtype\u001b[0m \u001b[0;32mis\u001b[0m \u001b[0;32mnot\u001b[0m \u001b[0;32mNone\u001b[0m\u001b[0;34m:\u001b[0m\u001b[0;34m\u001b[0m\u001b[0;34m\u001b[0m\u001b[0m\n",
            "\u001b[0;32m/usr/local/lib/python3.7/dist-packages/pandas/core/internals/construction.py\u001b[0m in \u001b[0;36m_prep_ndarray\u001b[0;34m(values, copy)\u001b[0m\n\u001b[1;32m    322\u001b[0m         \u001b[0mvalues\u001b[0m \u001b[0;34m=\u001b[0m \u001b[0mvalues\u001b[0m\u001b[0;34m.\u001b[0m\u001b[0mreshape\u001b[0m\u001b[0;34m(\u001b[0m\u001b[0;34m(\u001b[0m\u001b[0mvalues\u001b[0m\u001b[0;34m.\u001b[0m\u001b[0mshape\u001b[0m\u001b[0;34m[\u001b[0m\u001b[0;36m0\u001b[0m\u001b[0;34m]\u001b[0m\u001b[0;34m,\u001b[0m \u001b[0;36m1\u001b[0m\u001b[0;34m)\u001b[0m\u001b[0;34m)\u001b[0m\u001b[0;34m\u001b[0m\u001b[0;34m\u001b[0m\u001b[0m\n\u001b[1;32m    323\u001b[0m     \u001b[0;32melif\u001b[0m \u001b[0mvalues\u001b[0m\u001b[0;34m.\u001b[0m\u001b[0mndim\u001b[0m \u001b[0;34m!=\u001b[0m \u001b[0;36m2\u001b[0m\u001b[0;34m:\u001b[0m\u001b[0;34m\u001b[0m\u001b[0;34m\u001b[0m\u001b[0m\n\u001b[0;32m--> 324\u001b[0;31m         \u001b[0;32mraise\u001b[0m \u001b[0mValueError\u001b[0m\u001b[0;34m(\u001b[0m\u001b[0;34mf\"Must pass 2-d input. shape={values.shape}\"\u001b[0m\u001b[0;34m)\u001b[0m\u001b[0;34m\u001b[0m\u001b[0;34m\u001b[0m\u001b[0m\n\u001b[0m\u001b[1;32m    325\u001b[0m \u001b[0;34m\u001b[0m\u001b[0m\n\u001b[1;32m    326\u001b[0m     \u001b[0;32mreturn\u001b[0m \u001b[0mvalues\u001b[0m\u001b[0;34m\u001b[0m\u001b[0;34m\u001b[0m\u001b[0m\n",
            "\u001b[0;31mValueError\u001b[0m: Must pass 2-d input. shape=(2, 25134, 16)"
          ]
        }
      ]
    },
    {
      "cell_type": "code",
      "metadata": {
        "id": "_GBLo4JwZxHF"
      },
      "source": [
        "if download_csv:\n",
        "\n",
        "  send_dataset.download_csv()\n",
        "\n",
        "  if xgb:\n",
        "    shap_values_xgboost_df.download_csv()\n",
        "  if dt:\n",
        "    shap_values_tree_df.download_csv()\n",
        "  if mlp:\n",
        "    shap_values_mlp_df.download_csv()\n",
        "  if knn:\n",
        "    shap_values_knn_df.download_csv()\n",
        "  if rf:\n",
        "    shap_values_rf_df.download_csv()"
      ],
      "execution_count": null,
      "outputs": []
    },
    {
      "cell_type": "markdown",
      "metadata": {
        "id": "2nwwXQmNMu-V"
      },
      "source": [
        "## Enviar CSV a telegram"
      ]
    },
    {
      "cell_type": "code",
      "metadata": {
        "colab": {
          "base_uri": "https://localhost:8080/"
        },
        "id": "TTBGYPshwFSW",
        "outputId": "d9abfbd8-986a-41dc-dbdb-318596d90d3b"
      },
      "source": [
        "if send_telegram:\n",
        "  import requests\n",
        "\n",
        "  def send_csv(df, id,name):\n",
        "    files = {'document' : df.to_csv()}\n",
        "    resp = requests.post('https://api.telegram.org/bot1731230204:AAHdcXkGLshJHO9nDgvW4ZJXj8JYa_WXhpc/sendDocument?chat_id=-{}&caption={}'.format(id,name),files=files)\n",
        "    print(resp.status_code)\n",
        "\n",
        "  send_csv(send_dataset,telegram_id,\"Mean shap values modelos\")\n",
        "\n",
        "  if xgb:\n",
        "    send_csv(shap_values_xgboost_df,telegram_id,\"shap_values_xgboost_df\")\n",
        "  if dt:\n",
        "    send_csv(shap_values_tree_df,telegram_id,\"shap_values_tree_df\")\n",
        "  if mlp:\n",
        "    send_csv(shap_values_mlp_df,telegram_id,\"shap_values_mlp_df\")\n",
        "  if knn:\n",
        "    send_csv(shap_values_knn_df,telegram_id,\"shap_values_knn_df\")\n",
        "  if rf:\n",
        "    send_csv(shap_values_rf_df,telegram_id,\"shap_values_rf_df\")"
      ],
      "execution_count": null,
      "outputs": [
        {
          "output_type": "stream",
          "text": [
            "200\n",
            "200\n"
          ],
          "name": "stdout"
        }
      ]
    }
  ]
}